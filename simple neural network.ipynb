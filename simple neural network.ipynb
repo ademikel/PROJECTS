{
 "cells": [
  {
   "cell_type": "code",
   "execution_count": 1,
   "id": "fbd6afea-3245-4622-a57b-4c295b9ceb9a",
   "metadata": {},
   "outputs": [
    {
     "name": "stdout",
     "output_type": "stream",
     "text": [
      "synaptic_weights before training : \n",
      " [[-0.16595599]\n",
      " [ 0.44064899]\n",
      " [-0.99977125]]\n",
      "synaptic_weights after training : \n",
      " [[12.70627854]\n",
      " [-0.20392447]\n",
      " [-6.14946022]]\n",
      "outputs after training: \n",
      " [[0.00213009]\n",
      " [0.99826132]\n",
      " [0.99858161]\n",
      " [0.00173782]]\n"
     ]
    }
   ],
   "source": [
    "import numpy as np\n",
    "\n",
    "def sigmoid(x):\n",
    "    return (1 / (1 + np.exp(-x)))\n",
    "\n",
    "def sigmoid_derivative(x):\n",
    "    return x * (1 - x)\n",
    "\n",
    "tr_inputs = np.array([[0,0,1],\n",
    "                      [1,1,1],\n",
    "                      [1,0,1],\n",
    "                      [0,1,1]])\n",
    "\n",
    "tr_outputs = np.array([[0,1,1,0]]).T\n",
    "\n",
    "np.random.seed(1)\n",
    "\n",
    "synaptic_weights = 2 * np.random.random((3, 1)) - 1\n",
    "\n",
    "print('synaptic_weights before training : \\n', synaptic_weights)\n",
    "\n",
    "for iteration in range(200000):\n",
    "    \n",
    "    input_layer = tr_inputs\n",
    "    \n",
    "    outputs = sigmoid(np.dot(tr_inputs, synaptic_weights))\n",
    "    \n",
    "    error = tr_outputs - outputs\n",
    "    \n",
    "    adjustments = error * sigmoid_derivative(outputs)\n",
    "    \n",
    "    synaptic_weights += np.dot(input_layer.T, adjustments)\n",
    "    \n",
    "print('synaptic_weights after training : \\n', synaptic_weights)    \n",
    "\n",
    "print('outputs after training: \\n', outputs)"
   ]
  },
  {
   "cell_type": "code",
   "execution_count": null,
   "id": "570a4e77-9143-4a54-985a-c9619bd194ac",
   "metadata": {},
   "outputs": [],
   "source": []
  }
 ],
 "metadata": {
  "kernelspec": {
   "display_name": "Python 3",
   "language": "python",
   "name": "python3"
  },
  "language_info": {
   "codemirror_mode": {
    "name": "ipython",
    "version": 3
   },
   "file_extension": ".py",
   "mimetype": "text/x-python",
   "name": "python",
   "nbconvert_exporter": "python",
   "pygments_lexer": "ipython3",
   "version": "3.8.8"
  }
 },
 "nbformat": 4,
 "nbformat_minor": 5
}
