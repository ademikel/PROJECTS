{
  "cells": [
    {
      "cell_type": "code",
      "execution_count": null,
      "metadata": {
        "id": "xdZ1nVjIcHMH"
      },
      "outputs": [],
      "source": [
        "pip install -U catboost layer"
      ],
      "id": "xdZ1nVjIcHMH"
    },
    {
      "cell_type": "code",
      "execution_count": 2,
      "metadata": {
        "id": "seIX784jcHFL"
      },
      "outputs": [],
      "source": [
        "# !pip -q install git+https://github.com/eaedk/testing-zindi-package.git\n",
        "# from zindi.user import Zindian\n",
        "# USERNAME = \"adetoromichael346@gmail.com\" #@param {type : \"string\"}\n",
        "# user = Zindian(username=USERNAME)\n",
        "# user.select_a_challenge(reward='all', kind='competition', active='true')\n",
        "# user.download_dataset(destination=\"dataset\")"
      ],
      "id": "seIX784jcHFL"
    },
    {
      "cell_type": "code",
      "source": [
        "import layer\n",
        "from layer.decorators import dataset,model, pip_requirements"
      ],
      "metadata": {
        "id": "hh4fieCcRc7w"
      },
      "id": "hh4fieCcRc7w",
      "execution_count": 4,
      "outputs": []
    },
    {
      "cell_type": "code",
      "execution_count": 5,
      "metadata": {
        "id": "2547d927-8976-43e6-9fc5-400c0cda0206",
        "colab": {
          "base_uri": "https://localhost:8080/"
        },
        "outputId": "002c5e70-c4b3-4d8c-8a2f-aacd6a2e783e"
      },
      "outputs": [
        {
          "output_type": "stream",
          "name": "stdout",
          "text": [
            "Please open the following link in your web browser. Once logged in, copy the code and paste it here.\n",
            "https://app.layer.ai/oauth/authorize?response_type=code&code_challenge=YV6rPjNbGSuhOJP6Vvd52kJaF8g3QwfaeGawchwWLAY&code_challenge_method=S256&client_id=0STDdcnpK48P8A429EAAn93WNuLmViLR&redirect_uri=https://app.layer.ai/oauth/code&scope=offline_access&audience=https://app.layer.ai\n",
            "Code: gRKAIhq7AUX3c2xUyX0ZbkG_cdujRGZtXytqGMj00Jb4L\n",
            "Successfully logged into https://app.layer.ai\n"
          ]
        },
        {
          "output_type": "execute_result",
          "data": {
            "text/plain": [
              "Your Layer project is here: https://app.layer.ai/mike_ade/ai-squad-zindi-air-quality"
            ]
          },
          "metadata": {},
          "execution_count": 5
        }
      ],
      "source": [
        "layer.login()\n",
        "layer.init(\"ai-squad-zindi-air-quality\")"
      ],
      "id": "2547d927-8976-43e6-9fc5-400c0cda0206"
    },
    {
      "cell_type": "code",
      "source": [
        "import numpy as np\n",
        "import pandas as pd\n",
        "import matplotlib.pyplot as plt\n",
        "# pd.options.display.max_columns = 999\n",
        "# pd.options.display.max_rows = 999\n",
        "import seaborn as sns\n",
        "from scipy import stats\n",
        "\n",
        "from sklearn.preprocessing import LabelEncoder"
      ],
      "metadata": {
        "id": "BhAADG6QYMFx"
      },
      "id": "BhAADG6QYMFx",
      "execution_count": 25,
      "outputs": []
    },
    {
      "cell_type": "code",
      "source": [
        "sub = layer.get_dataset(\"zindi/air-quality/datasets/sample_submission\").to_pandas()\n",
        "test_df = layer.get_dataset(\"zindi/air-quality/datasets/test\").to_pandas()\n",
        "train_df = layer.get_dataset(\"zindi/air-quality/datasets/train\").to_pandas()\n",
        "\n",
        "col1 = ['ID','date']\n",
        "col2 = ['device']\n",
        "col3 = ['humidity', 'temp_mean']\n",
        "location = ['site_latitude', 'site_longitude']\n",
        "chem = [\n",
        "        'SulphurDioxide_SO2_column_number_density',\n",
        "      'SulphurDioxide_SO2_column_number_density_amf',\n",
        "        'SulphurDioxide_SO2_column_number_density_15km',\n",
        "      'CarbonMonoxide_CO_column_number_density',\n",
        "        'NitrogenDioxide_NO2_column_number_density',\n",
        "        'UvAerosolIndex_absorbing_aerosol_index',\n",
        "        'Ozone_O3_column_number_density',\n",
        "        'Cloud_cloud_fraction', \n",
        "        'Cloud_cloud_top_pressure',\n",
        "]\n",
        "target = ['pm2_5']\n",
        "feat = col1 + col2 + col3 + location + chem\n",
        "train_df = train_df[feat + target]\n",
        "test_df = test_df[feat]\n",
        "train_df = train_df.sort_values(['date', 'device']).reset_index(drop=True) \n",
        "test_df = test_df.sort_values(['date', 'device']).reset_index(drop=True)\n",
        "\n",
        "for dataset in (train_df,test_df):\n",
        "    dataset['date'] = pd.to_datetime(dataset['date'])\n",
        "    dataset['Day'] = dataset.date.dt.day\n",
        "    dataset['Month'] = dataset.date.dt.month\n",
        "    dataset['Year'] = dataset.date.dt.year\n",
        "    dataset['DayOfWeek'] = dataset.date.dt.dayofweek\n",
        "    dataset['DayOfYear'] = dataset.date.dt.dayofyear\n",
        "    dataset['Week'] = dataset.date.dt.weekofyear    \n",
        "    dataset.set_index('date', inplace=True)\n",
        "\n",
        "ID = test_df['ID']\n",
        "test_df.drop('ID',inplace=True,axis=1)\n",
        "train_df.drop('ID',inplace=True,axis=1)\n",
        "def LAG(data,LagFeature,shift=1,NewFeatures=[]) :\n",
        "    data[NewFeatures[0]]   = data[LagFeature]  - data[LagFeature].shift(shift)\n",
        "    data[NewFeatures[1]]   = data[LagFeature].shift(shift)\n",
        "\n",
        "num_feats = train_df.columns\n",
        "num_feats = num_feats.drop(['DayOfWeek','Month','Day','pm2_5','temp_mean','humidity','site_longitude', 'site_latitude','device', 'Year', 'DayOfYear', 'Week'])\n",
        "\n",
        "for feature in num_feats:\n",
        "    LAG(train_df,LagFeature=f'{feature}',shift=1,NewFeatures=[f'{feature}_diff_Lag1',f'{feature}_Lag1'])\n",
        "    LAG(test_df,LagFeature=f'{feature}',shift=1,NewFeatures=[f'{feature}_diff_Lag1',f'{feature}_Lag1'])\n",
        "\n",
        "for dataset in (train_df,test_df):\n",
        "    dataset['Year_Week'] = dataset['Year'].astype(str) + '-' + dataset['Week'].astype(str)\n",
        "    dataset['Month_Day'] = dataset['Month'].astype(str) + '-' + dataset['Day'].astype(str)\n",
        "    dataset['lat_lon'] = dataset['site_latitude'].astype(str) + '_' + dataset['site_longitude'].astype(str)\n",
        "\n",
        "feats = ['Year_Week','Month_Day', 'device', 'lat_lon']\n",
        "\n",
        "#Label Encoder\n",
        "def label_enc(train_df, test_df, features):\n",
        "    lbl_enc = LabelEncoder()\n",
        "    full_data = pd.concat([train_df[features], test_df[features]],axis=0)\n",
        "    for col in (features):\n",
        "        # print(col)\n",
        "        lbl_enc.fit(full_data[col].values)\n",
        "        train_df[col] = lbl_enc.transform(train_df[col])\n",
        "        test_df[col] = lbl_enc.transform(test_df[col])\n",
        "    return train_df, test_df\n",
        "\n",
        "train_df,test_df = label_enc(train_df,test_df,feats)\n",
        "\n",
        "DevicePM2_5Mean = dict(train_df.groupby('device')['pm2_5'].mean())\n",
        "DevicePM2_5Std = dict(train_df.groupby('device')['pm2_5'].std())\n",
        "DevicePM2_5Min = dict(train_df.groupby('device')['pm2_5'].min())\n",
        "DevicePM2_5Max = dict(train_df.groupby('device')['pm2_5'].max())\n",
        "\n",
        "for dataset in (train_df,test_df):\n",
        "    dataset['DevicePM2_5Mean'] = dataset['device'].map(DevicePM2_5Mean)\n",
        "    dataset['DevicePM2_5Std'] = dataset['device'].map(DevicePM2_5Std)\n",
        "    dataset['DevicePM2_5Min'] = dataset['device'].map(DevicePM2_5Min)\n",
        "    dataset['DevicePM2_5Max'] = dataset['device'].map(DevicePM2_5Max)\n",
        "\n",
        "data = pd.concat([train_df, test_df], axis = 0)\n",
        "def Agg(Features):\n",
        "    for dataset in (train_df,test_df):\n",
        "        for Feature in Features:\n",
        "            dataset[f'{Feature}_PerMonth'] = dataset['Month'].map(dict(data.groupby('Month')[Feature].mean()))\n",
        "            dataset[f'{Feature}_PerWeek'] = dataset['Year_Week'].map(dict(data.groupby('Year_Week')[Feature].mean()))\n",
        "            dataset[f'{Feature}_PerDay'] = dataset['Month_Day'].map(dict(data.groupby('Month_Day')[Feature].mean()))\n",
        "\n",
        "            dataset[f'{Feature}_Month_std'] = dataset['Month'].map(dict(data.groupby('Month')[Feature].std()))\n",
        "            dataset[f'{Feature}_Week_std'] = dataset['Year_Week'].map(dict(data.groupby('Year_Week')[Feature].std()))\n",
        "            dataset[f'{Feature}_Day_std'] = dataset['Month_Day'].map(dict(data.groupby('Month_Day')[Feature].std()))\n",
        "\n",
        "            dataset[f'{Feature}_Month_min'] = dataset['Month'].map(dict(data.groupby('Month')[Feature].min()))\n",
        "            dataset[f'{Feature}_Week_min'] = dataset['Year_Week'].map(dict(data.groupby('Year_Week')[Feature].min()))\n",
        "            dataset[f'{Feature}_Day_min'] = dataset['Month_Day'].map(dict(data.groupby('Month_Day')[Feature].min()))\n",
        "\n",
        "            dataset[f'{Feature}_Month_max'] = dataset['Month'].map(dict(data.groupby('Month')[Feature].max()))\n",
        "            dataset[f'{Feature}_Week_max'] = dataset['Year_Week'].map(dict(data.groupby('Year_Week')[Feature].max()))\n",
        "            dataset[f'{Feature}_Day_max'] = dataset['Month_Day'].map(dict(data.groupby('Month_Day')[Feature].max()))\n",
        "        \n",
        "Agg(['temp_mean', 'humidity'])\n",
        "train_df = train_df.fillna(0)\n",
        "test_df = test_df.fillna(0)\n",
        "train_df.drop(['Year_Week', 'Month_Day', 'site_longitude', 'site_latitude'],inplace=True,axis=1)\n",
        "test_df.drop(['Year_Week', 'Month_Day', 'site_longitude', 'site_latitude'],inplace=True,axis=1)"
      ],
      "metadata": {
        "colab": {
          "base_uri": "https://localhost:8080/",
          "height": 71,
          "referenced_widgets": [
            "f66e6ca98ff4463a8514f7369ca1afb6",
            "8de86af1dfb640f8bba902186c6ddd50",
            "42e94737646d44448ef3f27146da1eb6",
            "fe1289113b3141a08762a75969789275",
            "0ce7736722de40348f3d3a9957a61bae",
            "980f54d8f38143f99703b56102202943"
          ]
        },
        "id": "odUh_j-kYE9C",
        "outputId": "1ef4311d-527e-4ef2-f309-90770d836e29"
      },
      "id": "odUh_j-kYE9C",
      "execution_count": 26,
      "outputs": [
        {
          "output_type": "display_data",
          "data": {
            "text/plain": [
              "Output()"
            ],
            "application/vnd.jupyter.widget-view+json": {
              "version_major": 2,
              "version_minor": 0,
              "model_id": "f66e6ca98ff4463a8514f7369ca1afb6"
            }
          },
          "metadata": {}
        },
        {
          "output_type": "display_data",
          "data": {
            "text/plain": [],
            "text/html": [
              "<pre style=\"white-space:pre;overflow-x:auto;line-height:normal;font-family:Menlo,'DejaVu Sans Mono',consolas,'Courier New',monospace\"></pre>\n"
            ]
          },
          "metadata": {}
        },
        {
          "output_type": "display_data",
          "data": {
            "text/plain": [
              "\n"
            ],
            "text/html": [
              "<pre style=\"white-space:pre;overflow-x:auto;line-height:normal;font-family:Menlo,'DejaVu Sans Mono',consolas,'Courier New',monospace\">\n",
              "</pre>\n"
            ]
          },
          "metadata": {}
        },
        {
          "output_type": "display_data",
          "data": {
            "text/plain": [
              "Output()"
            ],
            "application/vnd.jupyter.widget-view+json": {
              "version_major": 2,
              "version_minor": 0,
              "model_id": "42e94737646d44448ef3f27146da1eb6"
            }
          },
          "metadata": {}
        },
        {
          "output_type": "display_data",
          "data": {
            "text/plain": [],
            "text/html": [
              "<pre style=\"white-space:pre;overflow-x:auto;line-height:normal;font-family:Menlo,'DejaVu Sans Mono',consolas,'Courier New',monospace\"></pre>\n"
            ]
          },
          "metadata": {}
        },
        {
          "output_type": "display_data",
          "data": {
            "text/plain": [
              "\n"
            ],
            "text/html": [
              "<pre style=\"white-space:pre;overflow-x:auto;line-height:normal;font-family:Menlo,'DejaVu Sans Mono',consolas,'Courier New',monospace\">\n",
              "</pre>\n"
            ]
          },
          "metadata": {}
        },
        {
          "output_type": "display_data",
          "data": {
            "text/plain": [
              "Output()"
            ],
            "application/vnd.jupyter.widget-view+json": {
              "version_major": 2,
              "version_minor": 0,
              "model_id": "0ce7736722de40348f3d3a9957a61bae"
            }
          },
          "metadata": {}
        },
        {
          "output_type": "display_data",
          "data": {
            "text/plain": [],
            "text/html": [
              "<pre style=\"white-space:pre;overflow-x:auto;line-height:normal;font-family:Menlo,'DejaVu Sans Mono',consolas,'Courier New',monospace\"></pre>\n"
            ]
          },
          "metadata": {}
        },
        {
          "output_type": "display_data",
          "data": {
            "text/plain": [
              "\n"
            ],
            "text/html": [
              "<pre style=\"white-space:pre;overflow-x:auto;line-height:normal;font-family:Menlo,'DejaVu Sans Mono',consolas,'Courier New',monospace\">\n",
              "</pre>\n"
            ]
          },
          "metadata": {}
        }
      ]
    },
    {
      "cell_type": "code",
      "execution_count": 28,
      "metadata": {
        "id": "cuo_E2NzpVAm"
      },
      "outputs": [],
      "source": [
        "@model(\"air_quality_model\")\n",
        "@pip_requirements(packages=[\"catboost\"])\n",
        "def train():\n",
        "    from catboost import CatBoostRegressor\n",
        "    from sklearn.compose import TransformedTargetRegressor\n",
        "    from sklearn.metrics import mean_absolute_error, mean_squared_error\n",
        "    from sklearn.model_selection import train_test_split\n",
        "    from sklearn.model_selection import KFold\n",
        "    from sklearn.decomposition import PCA\n",
        "    import datetime\n",
        "    import warnings\n",
        "    warnings.simplefilter(action='ignore')\n",
        "    \n",
        "    X = train_df.drop('pm2_5', axis = 1)\n",
        "    y = train_df.pm2_5\n",
        "\n",
        "    X_train, X_test, y_train, y_test = train_test_split(X, y, test_size = .1, shuffle = True, random_state = 42)\n",
        "\n",
        "    cb = CatBoostRegressor(n_estimators = 6886, learning_rate = 0.028926897706232692, depth = 8, verbose = 0, random_state = 42, task_type = 'GPU')\n",
        "    model = TransformedTargetRegressor(cb, func = np.log1p, inverse_func = np.expm1)\n",
        "    model.fit(X_train, y_train)\n",
        "    pred = model.predict(X_test)\n",
        "    error = mean_squared_error(y_test, pred)\n",
        "    layer.log({'Mean Absolute Error':error})\n",
        "\n",
        "    return model"
      ],
      "id": "cuo_E2NzpVAm"
    },
    {
      "cell_type": "code",
      "execution_count": 29,
      "metadata": {
        "colab": {
          "base_uri": "https://localhost:8080/",
          "height": 94,
          "referenced_widgets": [
            "06e7fa94918645ac962800a44c680487",
            "8b1e9bf0333742bf9ffb399f032e0848"
          ]
        },
        "id": "LtxUcgRIZGCa",
        "outputId": "f08af5fb-fd5b-4dab-fe18-af0aae7260d6"
      },
      "outputs": [
        {
          "output_type": "display_data",
          "data": {
            "text/plain": [
              "Output()"
            ],
            "application/vnd.jupyter.widget-view+json": {
              "version_major": 2,
              "version_minor": 0,
              "model_id": "06e7fa94918645ac962800a44c680487"
            }
          },
          "metadata": {}
        },
        {
          "output_type": "display_data",
          "data": {
            "text/plain": [],
            "text/html": [
              "<pre style=\"white-space:pre;overflow-x:auto;line-height:normal;font-family:Menlo,'DejaVu Sans Mono',consolas,'Courier New',monospace\"></pre>\n"
            ]
          },
          "metadata": {}
        },
        {
          "output_type": "display_data",
          "data": {
            "text/plain": [
              "\n"
            ],
            "text/html": [
              "<pre style=\"white-space:pre;overflow-x:auto;line-height:normal;font-family:Menlo,'DejaVu Sans Mono',consolas,'Courier New',monospace\">\n",
              "</pre>\n"
            ]
          },
          "metadata": {}
        },
        {
          "output_type": "execute_result",
          "data": {
            "text/plain": [
              "TransformedTargetRegressor(func=<ufunc 'log1p'>, inverse_func=<ufunc 'expm1'>,\n",
              "                           regressor=<catboost.core.CatBoostRegressor object at 0x7f22aa776290>)"
            ]
          },
          "metadata": {},
          "execution_count": 29
        }
      ],
      "source": [
        "train()"
      ],
      "id": "LtxUcgRIZGCa"
    },
    {
      "cell_type": "code",
      "execution_count": 31,
      "metadata": {
        "colab": {
          "base_uri": "https://localhost:8080/",
          "height": 35,
          "referenced_widgets": [
            "79d2e78e2a4d45a1aeeb4c480b2c13b8",
            "7e978dab1f8a4eecaf4fccf0075d8b36"
          ]
        },
        "id": "000b4c79-0af1-4089-ae2c-44fa00aed45e",
        "outputId": "233d3618-a29a-48c0-b9ee-f87ed4a308c0"
      },
      "outputs": [
        {
          "output_type": "display_data",
          "data": {
            "text/plain": [
              "Output()"
            ],
            "application/vnd.jupyter.widget-view+json": {
              "version_major": 2,
              "version_minor": 0,
              "model_id": "79d2e78e2a4d45a1aeeb4c480b2c13b8"
            }
          },
          "metadata": {}
        },
        {
          "output_type": "display_data",
          "data": {
            "text/plain": [],
            "text/html": [
              "<pre style=\"white-space:pre;overflow-x:auto;line-height:normal;font-family:Menlo,'DejaVu Sans Mono',consolas,'Courier New',monospace\"></pre>\n"
            ]
          },
          "metadata": {}
        },
        {
          "output_type": "display_data",
          "data": {
            "text/plain": [
              "\n"
            ],
            "text/html": [
              "<pre style=\"white-space:pre;overflow-x:auto;line-height:normal;font-family:Menlo,'DejaVu Sans Mono',consolas,'Courier New',monospace\">\n",
              "</pre>\n"
            ]
          },
          "metadata": {}
        }
      ],
      "source": [
        "my_model = layer.get_model(\"ai-squad-zindi-air-quality/models/air_model\").get_train()"
      ],
      "id": "000b4c79-0af1-4089-ae2c-44fa00aed45e"
    },
    {
      "cell_type": "code",
      "execution_count": 34,
      "metadata": {
        "colab": {
          "base_uri": "https://localhost:8080/",
          "height": 394
        },
        "id": "G-nWuS2Hj987",
        "outputId": "ef28db56-0ae2-4411-e855-baa048517373"
      },
      "outputs": [
        {
          "output_type": "execute_result",
          "data": {
            "text/plain": [
              "                       Id      pm2_5\n",
              "date                                \n",
              "2020-08-20  ID_M1T3S50WVB  76.117701\n",
              "2020-08-20  ID_S9OZLWWLTX  69.543607\n",
              "2020-08-20  ID_OC21YTIKX2  81.596124\n",
              "2020-08-20  ID_BNZBP8KDYD  82.423418\n",
              "2020-08-20  ID_ZS2RAN8HZT  68.914078\n",
              "2020-08-20  ID_HSJA8I0X66  82.861366\n",
              "2020-08-20  ID_3O2ZUT59OO  69.447400\n",
              "2020-08-20  ID_LWMVVRDK4P  73.556583\n",
              "2020-08-20  ID_JGEEJ9J0G7  77.157679\n",
              "2020-08-20  ID_U9UG6FQVPU  43.386644"
            ],
            "text/html": [
              "\n",
              "  <div id=\"df-e0551e6c-b7fe-41b3-a002-a59e7da242d4\">\n",
              "    <div class=\"colab-df-container\">\n",
              "      <div>\n",
              "<style scoped>\n",
              "    .dataframe tbody tr th:only-of-type {\n",
              "        vertical-align: middle;\n",
              "    }\n",
              "\n",
              "    .dataframe tbody tr th {\n",
              "        vertical-align: top;\n",
              "    }\n",
              "\n",
              "    .dataframe thead th {\n",
              "        text-align: right;\n",
              "    }\n",
              "</style>\n",
              "<table border=\"1\" class=\"dataframe\">\n",
              "  <thead>\n",
              "    <tr style=\"text-align: right;\">\n",
              "      <th></th>\n",
              "      <th>Id</th>\n",
              "      <th>pm2_5</th>\n",
              "    </tr>\n",
              "    <tr>\n",
              "      <th>date</th>\n",
              "      <th></th>\n",
              "      <th></th>\n",
              "    </tr>\n",
              "  </thead>\n",
              "  <tbody>\n",
              "    <tr>\n",
              "      <th>2020-08-20</th>\n",
              "      <td>ID_M1T3S50WVB</td>\n",
              "      <td>76.117701</td>\n",
              "    </tr>\n",
              "    <tr>\n",
              "      <th>2020-08-20</th>\n",
              "      <td>ID_S9OZLWWLTX</td>\n",
              "      <td>69.543607</td>\n",
              "    </tr>\n",
              "    <tr>\n",
              "      <th>2020-08-20</th>\n",
              "      <td>ID_OC21YTIKX2</td>\n",
              "      <td>81.596124</td>\n",
              "    </tr>\n",
              "    <tr>\n",
              "      <th>2020-08-20</th>\n",
              "      <td>ID_BNZBP8KDYD</td>\n",
              "      <td>82.423418</td>\n",
              "    </tr>\n",
              "    <tr>\n",
              "      <th>2020-08-20</th>\n",
              "      <td>ID_ZS2RAN8HZT</td>\n",
              "      <td>68.914078</td>\n",
              "    </tr>\n",
              "    <tr>\n",
              "      <th>2020-08-20</th>\n",
              "      <td>ID_HSJA8I0X66</td>\n",
              "      <td>82.861366</td>\n",
              "    </tr>\n",
              "    <tr>\n",
              "      <th>2020-08-20</th>\n",
              "      <td>ID_3O2ZUT59OO</td>\n",
              "      <td>69.447400</td>\n",
              "    </tr>\n",
              "    <tr>\n",
              "      <th>2020-08-20</th>\n",
              "      <td>ID_LWMVVRDK4P</td>\n",
              "      <td>73.556583</td>\n",
              "    </tr>\n",
              "    <tr>\n",
              "      <th>2020-08-20</th>\n",
              "      <td>ID_JGEEJ9J0G7</td>\n",
              "      <td>77.157679</td>\n",
              "    </tr>\n",
              "    <tr>\n",
              "      <th>2020-08-20</th>\n",
              "      <td>ID_U9UG6FQVPU</td>\n",
              "      <td>43.386644</td>\n",
              "    </tr>\n",
              "  </tbody>\n",
              "</table>\n",
              "</div>\n",
              "      <button class=\"colab-df-convert\" onclick=\"convertToInteractive('df-e0551e6c-b7fe-41b3-a002-a59e7da242d4')\"\n",
              "              title=\"Convert this dataframe to an interactive table.\"\n",
              "              style=\"display:none;\">\n",
              "        \n",
              "  <svg xmlns=\"http://www.w3.org/2000/svg\" height=\"24px\"viewBox=\"0 0 24 24\"\n",
              "       width=\"24px\">\n",
              "    <path d=\"M0 0h24v24H0V0z\" fill=\"none\"/>\n",
              "    <path d=\"M18.56 5.44l.94 2.06.94-2.06 2.06-.94-2.06-.94-.94-2.06-.94 2.06-2.06.94zm-11 1L8.5 8.5l.94-2.06 2.06-.94-2.06-.94L8.5 2.5l-.94 2.06-2.06.94zm10 10l.94 2.06.94-2.06 2.06-.94-2.06-.94-.94-2.06-.94 2.06-2.06.94z\"/><path d=\"M17.41 7.96l-1.37-1.37c-.4-.4-.92-.59-1.43-.59-.52 0-1.04.2-1.43.59L10.3 9.45l-7.72 7.72c-.78.78-.78 2.05 0 2.83L4 21.41c.39.39.9.59 1.41.59.51 0 1.02-.2 1.41-.59l7.78-7.78 2.81-2.81c.8-.78.8-2.07 0-2.86zM5.41 20L4 18.59l7.72-7.72 1.47 1.35L5.41 20z\"/>\n",
              "  </svg>\n",
              "      </button>\n",
              "      \n",
              "  <style>\n",
              "    .colab-df-container {\n",
              "      display:flex;\n",
              "      flex-wrap:wrap;\n",
              "      gap: 12px;\n",
              "    }\n",
              "\n",
              "    .colab-df-convert {\n",
              "      background-color: #E8F0FE;\n",
              "      border: none;\n",
              "      border-radius: 50%;\n",
              "      cursor: pointer;\n",
              "      display: none;\n",
              "      fill: #1967D2;\n",
              "      height: 32px;\n",
              "      padding: 0 0 0 0;\n",
              "      width: 32px;\n",
              "    }\n",
              "\n",
              "    .colab-df-convert:hover {\n",
              "      background-color: #E2EBFA;\n",
              "      box-shadow: 0px 1px 2px rgba(60, 64, 67, 0.3), 0px 1px 3px 1px rgba(60, 64, 67, 0.15);\n",
              "      fill: #174EA6;\n",
              "    }\n",
              "\n",
              "    [theme=dark] .colab-df-convert {\n",
              "      background-color: #3B4455;\n",
              "      fill: #D2E3FC;\n",
              "    }\n",
              "\n",
              "    [theme=dark] .colab-df-convert:hover {\n",
              "      background-color: #434B5C;\n",
              "      box-shadow: 0px 1px 3px 1px rgba(0, 0, 0, 0.15);\n",
              "      filter: drop-shadow(0px 1px 2px rgba(0, 0, 0, 0.3));\n",
              "      fill: #FFFFFF;\n",
              "    }\n",
              "  </style>\n",
              "\n",
              "      <script>\n",
              "        const buttonEl =\n",
              "          document.querySelector('#df-e0551e6c-b7fe-41b3-a002-a59e7da242d4 button.colab-df-convert');\n",
              "        buttonEl.style.display =\n",
              "          google.colab.kernel.accessAllowed ? 'block' : 'none';\n",
              "\n",
              "        async function convertToInteractive(key) {\n",
              "          const element = document.querySelector('#df-e0551e6c-b7fe-41b3-a002-a59e7da242d4');\n",
              "          const dataTable =\n",
              "            await google.colab.kernel.invokeFunction('convertToInteractive',\n",
              "                                                     [key], {});\n",
              "          if (!dataTable) return;\n",
              "\n",
              "          const docLinkHtml = 'Like what you see? Visit the ' +\n",
              "            '<a target=\"_blank\" href=https://colab.research.google.com/notebooks/data_table.ipynb>data table notebook</a>'\n",
              "            + ' to learn more about interactive tables.';\n",
              "          element.innerHTML = '';\n",
              "          dataTable['output_type'] = 'display_data';\n",
              "          await google.colab.output.renderOutput(dataTable, element);\n",
              "          const docLink = document.createElement('div');\n",
              "          docLink.innerHTML = docLinkHtml;\n",
              "          element.appendChild(docLink);\n",
              "        }\n",
              "      </script>\n",
              "    </div>\n",
              "  </div>\n",
              "  "
            ]
          },
          "metadata": {},
          "execution_count": 34
        }
      ],
      "source": [
        "pred = my_model.predict(test_df)\n",
        "submission = pd.DataFrame({\"Id\": ID ,\"pm2_5\": pred})\n",
        "submission.to_csv('air_quality.csv', index = False)\n",
        "submission.head(10)"
      ],
      "id": "G-nWuS2Hj987"
    },
    {
      "cell_type": "code",
      "source": [],
      "metadata": {
        "id": "zMVTP9TXW5ui"
      },
      "id": "zMVTP9TXW5ui",
      "execution_count": null,
      "outputs": []
    }
  ],
  "metadata": {
    "accelerator": "GPU",
    "colab": {
      "collapsed_sections": [],
      "provenance": []
    },
    "gpuClass": "standard",
    "kernelspec": {
      "display_name": "Python 3 (ipykernel)",
      "language": "python",
      "name": "python3"
    },
    "language_info": {
      "codemirror_mode": {
        "name": "ipython",
        "version": 3
      },
      "file_extension": ".py",
      "mimetype": "text/x-python",
      "name": "python",
      "nbconvert_exporter": "python",
      "pygments_lexer": "ipython3",
      "version": "3.9.12"
    },
    "widgets": {
      "application/vnd.jupyter.widget-state+json": {
        "f66e6ca98ff4463a8514f7369ca1afb6": {
          "model_module": "@jupyter-widgets/output",
          "model_name": "OutputModel",
          "model_module_version": "1.0.0",
          "state": {
            "_dom_classes": [],
            "_model_module": "@jupyter-widgets/output",
            "_model_module_version": "1.0.0",
            "_model_name": "OutputModel",
            "_view_count": null,
            "_view_module": "@jupyter-widgets/output",
            "_view_module_version": "1.0.0",
            "_view_name": "OutputView",
            "layout": "IPY_MODEL_8de86af1dfb640f8bba902186c6ddd50",
            "msg_id": "",
            "outputs": [
              {
                "output_type": "display_data",
                "data": {
                  "text/plain": "\u001b[32m⠦\u001b[0m  sample_submission    \u001b[38;2;21;127;61m━━━━━━━━━━\u001b[0m \u001b[38;2;21;127;61mLOADED\u001b[0m \u001b[39m[\u001b[0m\u001b[38;2;155;155;159m0:00:00\u001b[0m\u001b[39m]\u001b[0m \n",
                  "text/html": "<pre style=\"white-space:pre;overflow-x:auto;line-height:normal;font-family:Menlo,'DejaVu Sans Mono',consolas,'Courier New',monospace\"><span style=\"color: #008000; text-decoration-color: #008000\">⠦</span>  sample_submission    <span style=\"color: #157f3d; text-decoration-color: #157f3d\">━━━━━━━━━━</span> <span style=\"color: #157f3d; text-decoration-color: #157f3d\">LOADED</span> <span style=\"color: #000000; text-decoration-color: #000000\">[</span><span style=\"color: #9b9b9f; text-decoration-color: #9b9b9f\">0:00:00</span><span style=\"color: #000000; text-decoration-color: #000000\">]</span> \n</pre>\n"
                },
                "metadata": {}
              }
            ]
          }
        },
        "8de86af1dfb640f8bba902186c6ddd50": {
          "model_module": "@jupyter-widgets/base",
          "model_name": "LayoutModel",
          "model_module_version": "1.2.0",
          "state": {
            "_model_module": "@jupyter-widgets/base",
            "_model_module_version": "1.2.0",
            "_model_name": "LayoutModel",
            "_view_count": null,
            "_view_module": "@jupyter-widgets/base",
            "_view_module_version": "1.2.0",
            "_view_name": "LayoutView",
            "align_content": null,
            "align_items": null,
            "align_self": null,
            "border": null,
            "bottom": null,
            "display": null,
            "flex": null,
            "flex_flow": null,
            "grid_area": null,
            "grid_auto_columns": null,
            "grid_auto_flow": null,
            "grid_auto_rows": null,
            "grid_column": null,
            "grid_gap": null,
            "grid_row": null,
            "grid_template_areas": null,
            "grid_template_columns": null,
            "grid_template_rows": null,
            "height": null,
            "justify_content": null,
            "justify_items": null,
            "left": null,
            "margin": null,
            "max_height": null,
            "max_width": null,
            "min_height": null,
            "min_width": null,
            "object_fit": null,
            "object_position": null,
            "order": null,
            "overflow": null,
            "overflow_x": null,
            "overflow_y": null,
            "padding": null,
            "right": null,
            "top": null,
            "visibility": null,
            "width": null
          }
        },
        "42e94737646d44448ef3f27146da1eb6": {
          "model_module": "@jupyter-widgets/output",
          "model_name": "OutputModel",
          "model_module_version": "1.0.0",
          "state": {
            "_dom_classes": [],
            "_model_module": "@jupyter-widgets/output",
            "_model_module_version": "1.0.0",
            "_model_name": "OutputModel",
            "_view_count": null,
            "_view_module": "@jupyter-widgets/output",
            "_view_module_version": "1.0.0",
            "_view_name": "OutputView",
            "layout": "IPY_MODEL_fe1289113b3141a08762a75969789275",
            "msg_id": "",
            "outputs": [
              {
                "output_type": "display_data",
                "data": {
                  "text/plain": "\u001b[32m⠦\u001b[0m  test                 \u001b[38;2;21;127;61m━━━━━━━━━━\u001b[0m \u001b[38;2;21;127;61mLOADED\u001b[0m \u001b[39m[\u001b[0m\u001b[38;2;155;155;159m0:00:00\u001b[0m\u001b[39m]\u001b[0m \n",
                  "text/html": "<pre style=\"white-space:pre;overflow-x:auto;line-height:normal;font-family:Menlo,'DejaVu Sans Mono',consolas,'Courier New',monospace\"><span style=\"color: #008000; text-decoration-color: #008000\">⠦</span>  test                 <span style=\"color: #157f3d; text-decoration-color: #157f3d\">━━━━━━━━━━</span> <span style=\"color: #157f3d; text-decoration-color: #157f3d\">LOADED</span> <span style=\"color: #000000; text-decoration-color: #000000\">[</span><span style=\"color: #9b9b9f; text-decoration-color: #9b9b9f\">0:00:00</span><span style=\"color: #000000; text-decoration-color: #000000\">]</span> \n</pre>\n"
                },
                "metadata": {}
              }
            ]
          }
        },
        "fe1289113b3141a08762a75969789275": {
          "model_module": "@jupyter-widgets/base",
          "model_name": "LayoutModel",
          "model_module_version": "1.2.0",
          "state": {
            "_model_module": "@jupyter-widgets/base",
            "_model_module_version": "1.2.0",
            "_model_name": "LayoutModel",
            "_view_count": null,
            "_view_module": "@jupyter-widgets/base",
            "_view_module_version": "1.2.0",
            "_view_name": "LayoutView",
            "align_content": null,
            "align_items": null,
            "align_self": null,
            "border": null,
            "bottom": null,
            "display": null,
            "flex": null,
            "flex_flow": null,
            "grid_area": null,
            "grid_auto_columns": null,
            "grid_auto_flow": null,
            "grid_auto_rows": null,
            "grid_column": null,
            "grid_gap": null,
            "grid_row": null,
            "grid_template_areas": null,
            "grid_template_columns": null,
            "grid_template_rows": null,
            "height": null,
            "justify_content": null,
            "justify_items": null,
            "left": null,
            "margin": null,
            "max_height": null,
            "max_width": null,
            "min_height": null,
            "min_width": null,
            "object_fit": null,
            "object_position": null,
            "order": null,
            "overflow": null,
            "overflow_x": null,
            "overflow_y": null,
            "padding": null,
            "right": null,
            "top": null,
            "visibility": null,
            "width": null
          }
        },
        "0ce7736722de40348f3d3a9957a61bae": {
          "model_module": "@jupyter-widgets/output",
          "model_name": "OutputModel",
          "model_module_version": "1.0.0",
          "state": {
            "_dom_classes": [],
            "_model_module": "@jupyter-widgets/output",
            "_model_module_version": "1.0.0",
            "_model_name": "OutputModel",
            "_view_count": null,
            "_view_module": "@jupyter-widgets/output",
            "_view_module_version": "1.0.0",
            "_view_name": "OutputView",
            "layout": "IPY_MODEL_980f54d8f38143f99703b56102202943",
            "msg_id": "",
            "outputs": [
              {
                "output_type": "display_data",
                "data": {
                  "text/plain": "\u001b[32m⠦\u001b[0m  train                \u001b[38;2;21;127;61m━━━━━━━━━━\u001b[0m \u001b[38;2;21;127;61mLOADED\u001b[0m \u001b[39m[\u001b[0m\u001b[38;2;155;155;159m0:00:00\u001b[0m\u001b[39m]\u001b[0m \n",
                  "text/html": "<pre style=\"white-space:pre;overflow-x:auto;line-height:normal;font-family:Menlo,'DejaVu Sans Mono',consolas,'Courier New',monospace\"><span style=\"color: #008000; text-decoration-color: #008000\">⠦</span>  train                <span style=\"color: #157f3d; text-decoration-color: #157f3d\">━━━━━━━━━━</span> <span style=\"color: #157f3d; text-decoration-color: #157f3d\">LOADED</span> <span style=\"color: #000000; text-decoration-color: #000000\">[</span><span style=\"color: #9b9b9f; text-decoration-color: #9b9b9f\">0:00:00</span><span style=\"color: #000000; text-decoration-color: #000000\">]</span> \n</pre>\n"
                },
                "metadata": {}
              }
            ]
          }
        },
        "980f54d8f38143f99703b56102202943": {
          "model_module": "@jupyter-widgets/base",
          "model_name": "LayoutModel",
          "model_module_version": "1.2.0",
          "state": {
            "_model_module": "@jupyter-widgets/base",
            "_model_module_version": "1.2.0",
            "_model_name": "LayoutModel",
            "_view_count": null,
            "_view_module": "@jupyter-widgets/base",
            "_view_module_version": "1.2.0",
            "_view_name": "LayoutView",
            "align_content": null,
            "align_items": null,
            "align_self": null,
            "border": null,
            "bottom": null,
            "display": null,
            "flex": null,
            "flex_flow": null,
            "grid_area": null,
            "grid_auto_columns": null,
            "grid_auto_flow": null,
            "grid_auto_rows": null,
            "grid_column": null,
            "grid_gap": null,
            "grid_row": null,
            "grid_template_areas": null,
            "grid_template_columns": null,
            "grid_template_rows": null,
            "height": null,
            "justify_content": null,
            "justify_items": null,
            "left": null,
            "margin": null,
            "max_height": null,
            "max_width": null,
            "min_height": null,
            "min_width": null,
            "object_fit": null,
            "object_position": null,
            "order": null,
            "overflow": null,
            "overflow_x": null,
            "overflow_y": null,
            "padding": null,
            "right": null,
            "top": null,
            "visibility": null,
            "width": null
          }
        },
        "06e7fa94918645ac962800a44c680487": {
          "model_module": "@jupyter-widgets/output",
          "model_name": "OutputModel",
          "model_module_version": "1.0.0",
          "state": {
            "_dom_classes": [],
            "_model_module": "@jupyter-widgets/output",
            "_model_module_version": "1.0.0",
            "_model_name": "OutputModel",
            "_view_count": null,
            "_view_module": "@jupyter-widgets/output",
            "_view_module_version": "1.0.0",
            "_view_name": "OutputView",
            "layout": "IPY_MODEL_8b1e9bf0333742bf9ffb399f032e0848",
            "msg_id": "",
            "outputs": [
              {
                "output_type": "display_data",
                "data": {
                  "text/plain": "✅  air_quality_model    \u001b[38;2;21;127;61m━━━━━━━━━━\u001b[0m \u001b[38;2;21;127;61mDONE\u001b[0m \u001b[39m[\u001b[0m\u001b[38;2;155;155;159m22 MB/22 MB\u001b[0m\u001b[39m, \u001b[0m\u001b[38;2;155;155;159m0:03:30\u001b[0m\u001b[39m]\u001b[0m                                \n    \u001b[4;38;2;161;161;169m↳ \u001b[0m\u001b]8;id=961387;https://app.layer.ai/mike_ade/ai-squad-zindi-air-quality/models/air_quality_model?v=14.1\u001b\\\u001b[4;38;2;161;161;169mhttps://app.layer.ai/mike_ade/ai-squad-zindi-air-quality/models/air_quality_model?v=14.1\u001b[0m\u001b]8;;\u001b\\ \n",
                  "text/html": "<pre style=\"white-space:pre;overflow-x:auto;line-height:normal;font-family:Menlo,'DejaVu Sans Mono',consolas,'Courier New',monospace\">✅  air_quality_model    <span style=\"color: #157f3d; text-decoration-color: #157f3d\">━━━━━━━━━━</span> <span style=\"color: #157f3d; text-decoration-color: #157f3d\">DONE</span> <span style=\"color: #000000; text-decoration-color: #000000\">[</span><span style=\"color: #9b9b9f; text-decoration-color: #9b9b9f\">22 MB/22 MB</span><span style=\"color: #000000; text-decoration-color: #000000\">, </span><span style=\"color: #9b9b9f; text-decoration-color: #9b9b9f\">0:03:30</span><span style=\"color: #000000; text-decoration-color: #000000\">]</span>                                \n    <span style=\"color: #a1a1a9; text-decoration-color: #a1a1a9; text-decoration: underline\">↳ </span><a href=\"https://app.layer.ai/mike_ade/ai-squad-zindi-air-quality/models/air_quality_model?v=14.1\" target=\"_blank\"><span style=\"color: #a1a1a9; text-decoration-color: #a1a1a9; text-decoration: underline\">https://app.layer.ai/mike_ade/ai-squad-zindi-air-quality/models/air_quality_model?v=14.1</span></a> \n</pre>\n"
                },
                "metadata": {}
              }
            ]
          }
        },
        "8b1e9bf0333742bf9ffb399f032e0848": {
          "model_module": "@jupyter-widgets/base",
          "model_name": "LayoutModel",
          "model_module_version": "1.2.0",
          "state": {
            "_model_module": "@jupyter-widgets/base",
            "_model_module_version": "1.2.0",
            "_model_name": "LayoutModel",
            "_view_count": null,
            "_view_module": "@jupyter-widgets/base",
            "_view_module_version": "1.2.0",
            "_view_name": "LayoutView",
            "align_content": null,
            "align_items": null,
            "align_self": null,
            "border": null,
            "bottom": null,
            "display": null,
            "flex": null,
            "flex_flow": null,
            "grid_area": null,
            "grid_auto_columns": null,
            "grid_auto_flow": null,
            "grid_auto_rows": null,
            "grid_column": null,
            "grid_gap": null,
            "grid_row": null,
            "grid_template_areas": null,
            "grid_template_columns": null,
            "grid_template_rows": null,
            "height": null,
            "justify_content": null,
            "justify_items": null,
            "left": null,
            "margin": null,
            "max_height": null,
            "max_width": null,
            "min_height": null,
            "min_width": null,
            "object_fit": null,
            "object_position": null,
            "order": null,
            "overflow": null,
            "overflow_x": null,
            "overflow_y": null,
            "padding": null,
            "right": null,
            "top": null,
            "visibility": null,
            "width": null
          }
        },
        "79d2e78e2a4d45a1aeeb4c480b2c13b8": {
          "model_module": "@jupyter-widgets/output",
          "model_name": "OutputModel",
          "model_module_version": "1.0.0",
          "state": {
            "_dom_classes": [],
            "_model_module": "@jupyter-widgets/output",
            "_model_module_version": "1.0.0",
            "_model_name": "OutputModel",
            "_view_count": null,
            "_view_module": "@jupyter-widgets/output",
            "_view_module_version": "1.0.0",
            "_view_name": "OutputView",
            "layout": "IPY_MODEL_7e978dab1f8a4eecaf4fccf0075d8b36",
            "msg_id": "",
            "outputs": [
              {
                "output_type": "display_data",
                "data": {
                  "text/plain": "\u001b[32m⠋\u001b[0m  air_model            \u001b[38;2;21;127;61m━━━━━━━━━━\u001b[0m \u001b[38;2;21;127;61mLOADED\u001b[0m \u001b[39m[\u001b[0m\u001b[38;2;155;155;159m0 Bytes/0 Bytes\u001b[0m\u001b[39m, \u001b[0m\u001b[38;2;155;155;159m0:00:00\u001b[0m\u001b[39m]\u001b[0m \n",
                  "text/html": "<pre style=\"white-space:pre;overflow-x:auto;line-height:normal;font-family:Menlo,'DejaVu Sans Mono',consolas,'Courier New',monospace\"><span style=\"color: #008000; text-decoration-color: #008000\">⠋</span>  air_model            <span style=\"color: #157f3d; text-decoration-color: #157f3d\">━━━━━━━━━━</span> <span style=\"color: #157f3d; text-decoration-color: #157f3d\">LOADED</span> <span style=\"color: #000000; text-decoration-color: #000000\">[</span><span style=\"color: #9b9b9f; text-decoration-color: #9b9b9f\">0 Bytes/0 Bytes</span><span style=\"color: #000000; text-decoration-color: #000000\">, </span><span style=\"color: #9b9b9f; text-decoration-color: #9b9b9f\">0:00:00</span><span style=\"color: #000000; text-decoration-color: #000000\">]</span> \n</pre>\n"
                },
                "metadata": {}
              }
            ]
          }
        },
        "7e978dab1f8a4eecaf4fccf0075d8b36": {
          "model_module": "@jupyter-widgets/base",
          "model_name": "LayoutModel",
          "model_module_version": "1.2.0",
          "state": {
            "_model_module": "@jupyter-widgets/base",
            "_model_module_version": "1.2.0",
            "_model_name": "LayoutModel",
            "_view_count": null,
            "_view_module": "@jupyter-widgets/base",
            "_view_module_version": "1.2.0",
            "_view_name": "LayoutView",
            "align_content": null,
            "align_items": null,
            "align_self": null,
            "border": null,
            "bottom": null,
            "display": null,
            "flex": null,
            "flex_flow": null,
            "grid_area": null,
            "grid_auto_columns": null,
            "grid_auto_flow": null,
            "grid_auto_rows": null,
            "grid_column": null,
            "grid_gap": null,
            "grid_row": null,
            "grid_template_areas": null,
            "grid_template_columns": null,
            "grid_template_rows": null,
            "height": null,
            "justify_content": null,
            "justify_items": null,
            "left": null,
            "margin": null,
            "max_height": null,
            "max_width": null,
            "min_height": null,
            "min_width": null,
            "object_fit": null,
            "object_position": null,
            "order": null,
            "overflow": null,
            "overflow_x": null,
            "overflow_y": null,
            "padding": null,
            "right": null,
            "top": null,
            "visibility": null,
            "width": null
          }
        }
      }
    }
  },
  "nbformat": 4,
  "nbformat_minor": 5
}