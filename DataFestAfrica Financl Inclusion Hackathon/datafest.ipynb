{
 "cells": [
  {
   "cell_type": "code",
   "execution_count": 59,
   "id": "9f310e03-065a-436c-bdb1-5e2fbcf27b74",
   "metadata": {
    "tags": []
   },
   "outputs": [],
   "source": [
    "# dependencies\n",
    "import re\n",
    "import pandas as pd\n",
    "pd.options.display.max_columns = 999\n",
    "pd.options.display.max_rows = 999\n",
    "import matplotlib.pyplot as plt\n",
    "import numpy as np\n",
    "import seaborn as sns\n",
    "\n",
    "from sklearn.preprocessing import LabelEncoder, StandardScaler\n",
    "from sklearn.model_selection import train_test_split, KFold\n",
    "from catboost import Pool, CatBoostClassifier\n",
    "from lightgbm import LGBMClassifier\n",
    "from sklearn.ensemble import RandomForestClassifier\n",
    "from sklearn.cluster import KMeans\n",
    "from sklearn.decomposition import PCA\n",
    "from category_encoders import TargetEncoder\n",
    "from sklearn.metrics import roc_auc_score as auc\n",
    "from sklearn.metrics import accuracy_score\n",
    "\n",
    "import warnings\n",
    "warnings.filterwarnings('ignore')"
   ]
  },
  {
   "cell_type": "code",
   "execution_count": 105,
   "id": "d3551cb9-535e-47c5-a7b6-138b4ac8dc3b",
   "metadata": {},
   "outputs": [],
   "source": [
    "train = pd.read_csv(\"train.csv\")\n",
    "test = pd.read_csv(\"test.csv\")\n",
    "seed = 42"
   ]
  },
  {
   "cell_type": "code",
   "execution_count": 106,
   "id": "41d1a15b-d4b4-4154-979a-f8711e18246c",
   "metadata": {},
   "outputs": [],
   "source": [
    "data = pd.concat((train, test)).reset_index(drop=True)\n",
    "\n",
    "ID = test['Entry_id']\n",
    "data.drop(['Entry_id'], inplace=True,axis=1)"
   ]
  },
  {
   "cell_type": "code",
   "execution_count": 107,
   "id": "18bb8099-be6c-4e47-b94a-aabb3841cc3d",
   "metadata": {},
   "outputs": [],
   "source": [
    "data['risk_score'] = data.risk_score / 100000\n",
    "data['risky'] = (data.risk_score > 0.5) & (data.risk_score_2 > 0.62) & (data.risk_score_3 < 0.8) & (data.risk_score_5 < 0.83)\n",
    "data['get_signed'] = np.where(((data.risk_score > 0.596) & (data.income > 2750) & (data.amount_requested > 1300) & (data.ext_quality_score < 0.92)), 1, 0)"
   ]
  },
  {
   "cell_type": "code",
   "execution_count": 108,
   "id": "3eeac0bc-2fef-4bfc-86ca-4e30e7aec3eb",
   "metadata": {},
   "outputs": [],
   "source": [
    "agg = ['mean', 'max', 'min', 'std']\n",
    "for agg in agg:\n",
    "    data[f'income_by_request_{agg}'] = data['income'].groupby(data['amount_requested']).transform(agg)\n",
    "    data[f'risk_by_request_{agg}'] = data['risk_score'].groupby(data['amount_requested']).transform(agg)\n",
    "    data[f'debt_by_request_{agg}'] = data['has_debt'].groupby(data['amount_requested']).transform(agg)"
   ]
  },
  {
   "cell_type": "code",
   "execution_count": 109,
   "id": "9bb58425-616c-45bd-bfd5-41a3fde87e8c",
   "metadata": {},
   "outputs": [],
   "source": [
    "col_1 = ['risk_score', 'risk_score_2', 'risk_score_3']\n",
    "col_2 = ['ext_quality_score', 'ext_quality_score_2']\n",
    "data['risk_mean'] = data[col_1].mean(axis=1)\n",
    "data['ext_mean'] = data[col_2].mean(axis=1)"
   ]
  },
  {
   "cell_type": "code",
   "execution_count": 110,
   "id": "80b37710-adea-445c-881a-ce9ea5a7bfb9",
   "metadata": {},
   "outputs": [],
   "source": [
    "data['income_per_request'] = data.income / data.amount_requested"
   ]
  },
  {
   "cell_type": "code",
   "execution_count": 111,
   "id": "751e20b5-4a1a-4e4c-be31-5eb9d5079406",
   "metadata": {},
   "outputs": [],
   "source": [
    "data['month_acct'] = (data.personal_account_y * 12) + data.personal_account_m"
   ]
  },
  {
   "cell_type": "code",
   "execution_count": 112,
   "id": "12f9cebc-8c8e-4c45-a2c6-fb1e06db9e92",
   "metadata": {},
   "outputs": [],
   "source": [
    "data['age_group'] = pd.cut(x = data['age'], bins = [16, 28, 40, 64, 100], labels = ['young', 'young_adult', 'adult', 'old'])\n",
    "data['class'] = pd.cut(x = data['income'], bins = [0, 3000, 7000, 10000], labels = ['poor', 'middle_class', 'rich'])\n",
    "data['request_level'] = pd.cut(x = data['amount_requested'], bins = [0, 800, 1200, 5000, 12000], labels = ['one', 'two', 'three', 'four'])\n",
    "data['risk_level'] = pd.cut(x = data['risk_mean'], bins = [0.4, 0.6, 0.7, 1], labels = ['one', 'two', 'three'])"
   ]
  },
  {
   "cell_type": "code",
   "execution_count": 113,
   "id": "0b51d803-818e-4449-a765-31fe10763b9f",
   "metadata": {},
   "outputs": [],
   "source": [
    "cols = ['risk_level', 'age_group', 'pay_schedule', 'class', 'request_level', 'risky']\n",
    "le = LabelEncoder()\n",
    "for col in cols:\n",
    "    data[col] = le.fit_transform(data[col])"
   ]
  },
  {
   "cell_type": "code",
   "execution_count": 114,
   "id": "c3349f39-a75b-46cc-b60d-906f2084c963",
   "metadata": {
    "tags": []
   },
   "outputs": [],
   "source": [
    "# data.corr().abs()['e_signed']"
   ]
  },
  {
   "cell_type": "code",
   "execution_count": 115,
   "id": "e3ebbd0c-5e8a-425c-9739-2a6a4285adb9",
   "metadata": {},
   "outputs": [],
   "source": [
    "train = data[data.e_signed.notnull()].reset_index(drop = True)\n",
    "test = data[data.e_signed.isna()].reset_index(drop = True)\n",
    "test.drop('e_signed', axis = 1, inplace = True)"
   ]
  },
  {
   "cell_type": "code",
   "execution_count": 116,
   "id": "d88549e7-6340-4dc9-aa41-7a37c16db0c5",
   "metadata": {},
   "outputs": [
    {
     "data": {
      "text/plain": [
       "((12516, 42), (5392, 41))"
      ]
     },
     "execution_count": 116,
     "metadata": {},
     "output_type": "execute_result"
    }
   ],
   "source": [
    "train.shape, test.shape"
   ]
  },
  {
   "cell_type": "code",
   "execution_count": 117,
   "id": "85c8d468-bd0b-4874-b5c5-648a5a23268c",
   "metadata": {},
   "outputs": [],
   "source": [
    "# X_, y_ = train[use], train['e_signed']\n",
    "X, y = train.drop('e_signed', axis = 1), train['e_signed']\n",
    "X_train, X_test, y_train, y_test = train_test_split(X, y, test_size = .155, shuffle = True, random_state = seed)"
   ]
  },
  {
   "cell_type": "markdown",
   "id": "a70b70bc-5344-4981-87a7-ea03d9aed0e0",
   "metadata": {
    "tags": []
   },
   "source": [
    "# BASELINE MODEL"
   ]
  },
  {
   "cell_type": "code",
   "execution_count": 118,
   "id": "754adc2f-8241-49f1-b110-37a6a91c207f",
   "metadata": {
    "tags": []
   },
   "outputs": [
    {
     "data": {
      "text/plain": [
       "0.72623"
      ]
     },
     "execution_count": 118,
     "metadata": {},
     "output_type": "execute_result"
    }
   ],
   "source": [
    "d_train, d_test  = Pool(X_train, y_train), Pool(X_test, y_test)\n",
    "cb_model_ = CatBoostClassifier(max_depth = 5, learning_rate = 0.084, n_estimators = 1670, verbose = 0, random_state = seed)\n",
    "cb_model_.fit(d_train, eval_set = [(d_test)], verbose = 0, early_stopping_rounds = 200)\n",
    "preds_ = cb_model_.predict_proba(d_test)\n",
    "auc(y_test, preds_[:,-1]).round(5)"
   ]
  },
  {
   "cell_type": "code",
   "execution_count": 119,
   "id": "18970c07-403e-48f2-8310-b41fd3d92a92",
   "metadata": {
    "tags": []
   },
   "outputs": [
    {
     "data": {
      "text/plain": [
       "0.72374"
      ]
     },
     "execution_count": 119,
     "metadata": {},
     "output_type": "execute_result"
    }
   ],
   "source": [
    "lgb_model_ = LGBMClassifier(n_estimators = 2000, learning_rate = 0.01, colsample_bytree = 0.8, max_depth = 6, random_state = seed, verbose = -1)\n",
    "lgb_model_.fit(X_train, y_train, eval_set = [(X_train, y_train), (X_test, y_test)], early_stopping_rounds = 200, verbose = 0)\n",
    "preds_ = lgb_model_.predict_proba(X_test)\n",
    "auc(y_test, preds_[:,-1]).round(5)"
   ]
  },
  {
   "cell_type": "markdown",
   "id": "4749d0a6-17d7-4bb9-a456-8174416f0d47",
   "metadata": {
    "tags": []
   },
   "source": [
    "# CROSS VALIDATION"
   ]
  },
  {
   "cell_type": "code",
   "execution_count": 120,
   "id": "a7e4a41b-2f8c-4e12-beea-572160e1e71e",
   "metadata": {},
   "outputs": [],
   "source": [
    "# creating fols to n=be used for cross validation\n",
    "TARGET_COL = 'e_signed'\n",
    "remove_features = ['e_signed', 'folds']\n",
    "features_columns = [col for col in train.columns if col not in remove_features]\n",
    "cat = le.fit_transform(train.e_signed)\n",
    "def create_folds(data):\n",
    "    data[\"folds\"] = -1\n",
    "    data = data.sample(frac = 1).reset_index(drop = True)\n",
    "    num_bins = np.floor(1 + np.log2(len(train))).astype(int)\n",
    "    data.loc[:, \"bins\"] = pd.cut(cat, bins = num_bins, labels = False)\n",
    "    kf = KFold(n_splits = 10, random_state = 10, shuffle = True)\n",
    "    for f, (t_, v_) in enumerate(kf.split(X = data, y = data.bins.values)):\n",
    "        data.loc[v_, \"folds\"] = f\n",
    "    data.drop(\"bins\", axis = 1, inplace = True)\n",
    "    return data\n",
    "train = create_folds(train)"
   ]
  },
  {
   "cell_type": "code",
   "execution_count": 121,
   "id": "6799f5b6-0469-4f9c-abf5-f21ee7d4eb6f",
   "metadata": {
    "tags": []
   },
   "outputs": [
    {
     "name": "stdout",
     "output_type": "stream",
     "text": [
      "------------------------------\n",
      "AUC_1: 0.72688\n",
      "------------------------------\n",
      "AUC_2: 0.72434\n",
      "------------------------------\n",
      "AUC_3: 0.72506\n",
      "------------------------------\n",
      "AUC_4: 0.72973\n",
      "------------------------------\n",
      "AUC_5: 0.73478\n",
      "------------------------------\n",
      "AUC_6: 0.71696\n",
      "------------------------------\n",
      "AUC_7: 0.72161\n",
      "------------------------------\n",
      "AUC_8: 0.73327\n",
      "------------------------------\n",
      "AUC_9: 0.70315\n",
      "------------------------------\n",
      "AUC_10: 0.72383\n",
      "------------------------------\n",
      "\n",
      "\n",
      "AUC_CV_CB: 0.72396\n"
     ]
    }
   ],
   "source": [
    "cb_auc_score_ = []\n",
    "# prediction_1 = []\n",
    "n_splits = 10\n",
    "print(\"-\" * 30)\n",
    "for fold in range(n_splits):\n",
    "    x_train_, y_train_ = train[train['folds']!=fold][features_columns] , train[train['folds']!=fold][TARGET_COL] \n",
    "    x_test_, y_test_ = train[train['folds']==fold][features_columns] , train[train['folds']==fold][TARGET_COL] \n",
    "    model_cb_ = CatBoostClassifier(max_depth = 5, bootstrap_type = 'Bayesian', learning_rate = 0.09, n_estimators = 500, verbose = 0, random_state = seed)\n",
    "    model_cb_.fit(x_train_, y_train_, eval_set = [(x_train_, y_train_), (x_test_, y_test_)], early_stopping_rounds = 300, verbose = 0)\n",
    "    preds_ = model_cb_.predict_proba(x_test_)\n",
    "    # prediction_1.append(model_cb_.predict_proba(test))\n",
    "    auc_1 = auc(y_test_, preds_[:,-1]).round(5)\n",
    "    print(f'AUC_{fold + 1}: {auc_1}')\n",
    "    cb_auc_score_.append(auc_1)\n",
    "    print(\"-\" * 30)\n",
    "print('\\n')\n",
    "print(f\"AUC_CV_CB: {np.mean(cb_auc_score_).round(5)}\")"
   ]
  },
  {
   "cell_type": "code",
   "execution_count": 122,
   "id": "ace66416-37e5-4361-b257-6043ba0bf783",
   "metadata": {},
   "outputs": [
    {
     "name": "stdout",
     "output_type": "stream",
     "text": [
      "------------------------------\n",
      "AUC_1: 0.71597\n",
      "------------------------------\n",
      "AUC_2: 0.72715\n",
      "------------------------------\n",
      "AUC_3: 0.71752\n",
      "------------------------------\n",
      "AUC_4: 0.73047\n",
      "------------------------------\n",
      "AUC_5: 0.72947\n",
      "------------------------------\n",
      "AUC_6: 0.71508\n",
      "------------------------------\n",
      "AUC_7: 0.72529\n",
      "------------------------------\n",
      "AUC_8: 0.72759\n",
      "------------------------------\n",
      "AUC_9: 0.70186\n",
      "------------------------------\n",
      "AUC_10: 0.71938\n",
      "------------------------------\n",
      "\n",
      "\n",
      "AUC_CV_LB: 0.72098\n"
     ]
    }
   ],
   "source": [
    "lb_auc_score_ = []\n",
    "prediction_2 = []\n",
    "print(\"-\" * 30)\n",
    "n_splits = 10\n",
    "for fold in range(n_splits):\n",
    "    x_train_, y_train_ = train[train['folds']!=fold][features_columns] , train[train['folds']!=fold][TARGET_COL] \n",
    "    x_test_, y_test_ = train[train['folds']==fold][features_columns] , train[train['folds']==fold][TARGET_COL] \n",
    "    d_train = Pool(x_train_, y_train_)\n",
    "    d_test = Pool(x_test_, y_test_)\n",
    "    model_lgb_ = LGBMClassifier(n_estimators = 2000, learning_rate = 0.08, colsample_bytree = 0.8, max_depth = 6, random_state = seed, verbose = -1)\n",
    "    model_lgb_.fit(x_train_, y_train_, eval_set = [(x_train_, y_train_), (x_test_, y_test_)], early_stopping_rounds = 300, verbose = 0)\n",
    "    preds_ = model_lgb_.predict_proba(x_test_)\n",
    "    prediction_2.append(model_lgb_.predict_proba(test))\n",
    "    auc_2 = auc(y_test_, preds_[:, -1]).round(5)\n",
    "    print(f'AUC_{fold + 1}: {auc_2}')\n",
    "    lb_auc_score_.append(auc_2)\n",
    "    print(\"-\" * 30)\n",
    "print('\\n')\n",
    "print(f\"AUC_CV_LB: {np.mean(lb_auc_score_).round(5)}\")"
   ]
  },
  {
   "cell_type": "code",
   "execution_count": 123,
   "id": "0037f01b-f808-4f62-ab91-9c1bacdb9c9d",
   "metadata": {},
   "outputs": [],
   "source": [
    "pred_1 = model_cb_.predict_proba(test)[:, -1]\n",
    "pred_2 = model_lgb_.predict_proba(test)[:, -1]\n",
    "pred_3 = cb_model_.predict_proba(test)[:, -1]\n",
    "pred_4 = lgb_model_.predict_proba(test)[:, -1]"
   ]
  },
  {
   "cell_type": "code",
   "execution_count": 124,
   "id": "c1d65aa3-ddce-46b2-9c67-9746c463ed83",
   "metadata": {},
   "outputs": [],
   "source": [
    "pred = (pred_1 + pred_2 + pred_3 + pred_4) / 4"
   ]
  },
  {
   "cell_type": "code",
   "execution_count": 125,
   "id": "48064698-df63-4ac7-9847-6647ebf123b8",
   "metadata": {},
   "outputs": [],
   "source": [
    "d_ = {'Entry_id' : ID, 'e_signed' : pred}\n",
    "df_ = pd.DataFrame(data = d_)\n",
    "df_ = df_[['Entry_id', 'e_signed']]\n",
    "df_.to_csv('datafest_aisquad.csv', index = False)"
   ]
  },
  {
   "cell_type": "code",
   "execution_count": 126,
   "id": "2e0dfe1f-ce5e-40eb-b099-935f855fd9fd",
   "metadata": {},
   "outputs": [
    {
     "data": {
      "text/html": [
       "<div>\n",
       "<style scoped>\n",
       "    .dataframe tbody tr th:only-of-type {\n",
       "        vertical-align: middle;\n",
       "    }\n",
       "\n",
       "    .dataframe tbody tr th {\n",
       "        vertical-align: top;\n",
       "    }\n",
       "\n",
       "    .dataframe thead th {\n",
       "        text-align: right;\n",
       "    }\n",
       "</style>\n",
       "<table border=\"1\" class=\"dataframe\">\n",
       "  <thead>\n",
       "    <tr style=\"text-align: right;\">\n",
       "      <th></th>\n",
       "      <th>Entry_id</th>\n",
       "      <th>e_signed</th>\n",
       "    </tr>\n",
       "  </thead>\n",
       "  <tbody>\n",
       "    <tr>\n",
       "      <th>0</th>\n",
       "      <td>3560428</td>\n",
       "      <td>0.424568</td>\n",
       "    </tr>\n",
       "    <tr>\n",
       "      <th>1</th>\n",
       "      <td>6934997</td>\n",
       "      <td>0.840020</td>\n",
       "    </tr>\n",
       "    <tr>\n",
       "      <th>2</th>\n",
       "      <td>5682812</td>\n",
       "      <td>0.491549</td>\n",
       "    </tr>\n",
       "    <tr>\n",
       "      <th>3</th>\n",
       "      <td>6493191</td>\n",
       "      <td>0.800437</td>\n",
       "    </tr>\n",
       "    <tr>\n",
       "      <th>4</th>\n",
       "      <td>8990111</td>\n",
       "      <td>0.301299</td>\n",
       "    </tr>\n",
       "  </tbody>\n",
       "</table>\n",
       "</div>"
      ],
      "text/plain": [
       "   Entry_id  e_signed\n",
       "0   3560428  0.424568\n",
       "1   6934997  0.840020\n",
       "2   5682812  0.491549\n",
       "3   6493191  0.800437\n",
       "4   8990111  0.301299"
      ]
     },
     "execution_count": 126,
     "metadata": {},
     "output_type": "execute_result"
    }
   ],
   "source": [
    "df_.head()"
   ]
  },
  {
   "cell_type": "code",
   "execution_count": 36,
   "id": "ceda5b95-6838-4ee5-a422-22320e036fff",
   "metadata": {},
   "outputs": [
    {
     "data": {
      "text/html": [
       "<div>\n",
       "<style scoped>\n",
       "    .dataframe tbody tr th:only-of-type {\n",
       "        vertical-align: middle;\n",
       "    }\n",
       "\n",
       "    .dataframe tbody tr th {\n",
       "        vertical-align: top;\n",
       "    }\n",
       "\n",
       "    .dataframe thead th {\n",
       "        text-align: right;\n",
       "    }\n",
       "</style>\n",
       "<table border=\"1\" class=\"dataframe\">\n",
       "  <thead>\n",
       "    <tr style=\"text-align: right;\">\n",
       "      <th></th>\n",
       "      <th>Entry_id</th>\n",
       "      <th>e_signed</th>\n",
       "    </tr>\n",
       "  </thead>\n",
       "  <tbody>\n",
       "    <tr>\n",
       "      <th>0</th>\n",
       "      <td>3560428</td>\n",
       "      <td>0.407537</td>\n",
       "    </tr>\n",
       "    <tr>\n",
       "      <th>1</th>\n",
       "      <td>6934997</td>\n",
       "      <td>0.852427</td>\n",
       "    </tr>\n",
       "    <tr>\n",
       "      <th>2</th>\n",
       "      <td>5682812</td>\n",
       "      <td>0.539748</td>\n",
       "    </tr>\n",
       "    <tr>\n",
       "      <th>3</th>\n",
       "      <td>6493191</td>\n",
       "      <td>0.787278</td>\n",
       "    </tr>\n",
       "    <tr>\n",
       "      <th>4</th>\n",
       "      <td>8990111</td>\n",
       "      <td>0.294801</td>\n",
       "    </tr>\n",
       "  </tbody>\n",
       "</table>\n",
       "</div>"
      ],
      "text/plain": [
       "   Entry_id  e_signed\n",
       "0   3560428  0.407537\n",
       "1   6934997  0.852427\n",
       "2   5682812  0.539748\n",
       "3   6493191  0.787278\n",
       "4   8990111  0.294801"
      ]
     },
     "execution_count": 36,
     "metadata": {},
     "output_type": "execute_result"
    }
   ],
   "source": [
    "df_.head()"
   ]
  },
  {
   "cell_type": "markdown",
   "id": "12db2ebe-8fd3-47eb-b3ba-306f3d35c6ef",
   "metadata": {
    "jp-MarkdownHeadingCollapsed": true,
    "tags": []
   },
   "source": [
    "# Neural Network"
   ]
  },
  {
   "cell_type": "code",
   "execution_count": 222,
   "id": "9a96d6ee-3453-409a-a983-4ae220642f12",
   "metadata": {},
   "outputs": [],
   "source": [
    "import tensorflow as tf\n",
    "from tensorflow import keras\n",
    "from tensorflow.keras import Sequential\n",
    "from tensorflow.keras.layers import Dense"
   ]
  },
  {
   "cell_type": "code",
   "execution_count": 223,
   "id": "fa7febef-eab9-4daa-b70b-6184b6af732a",
   "metadata": {},
   "outputs": [],
   "source": [
    "X = StandardScaler().fit_transform(X)"
   ]
  },
  {
   "cell_type": "code",
   "execution_count": 224,
   "id": "744af4a0-f788-494f-a48b-81fa0ca3bcf0",
   "metadata": {},
   "outputs": [],
   "source": [
    "X_train, X_test, y_train, y_test = train_test_split(X, y, test_size = .155, shuffle = True, random_state = seed)"
   ]
  },
  {
   "cell_type": "code",
   "execution_count": 231,
   "id": "e6597db9-ad6c-49e1-8fb4-378ba4a2514b",
   "metadata": {},
   "outputs": [],
   "source": [
    "# X_train.shape"
   ]
  },
  {
   "cell_type": "code",
   "execution_count": 232,
   "id": "f56c06ce-89fc-4fa1-b0c7-3290b3316cc2",
   "metadata": {},
   "outputs": [],
   "source": [
    "model = Sequential()\n",
    "model.add(Dense(3, activation = 'relu', input_dim = 43, use_bias=True, bias_initializer='zeros'))\n",
    "model.add(Dense(256, activation = 'sigmoid'))\n",
    "model.add(Dense(1, activation = 'sigmoid'))"
   ]
  },
  {
   "cell_type": "code",
   "execution_count": 233,
   "id": "4eabb5cd-e6f9-43f3-897c-cbb3b25c07de",
   "metadata": {},
   "outputs": [],
   "source": [
    "early_stopping = tf.keras.callbacks.EarlyStopping(\n",
    "    monitor='accuracy', \n",
    "    verbose=4,\n",
    "    patience=10,\n",
    "    mode='max',\n",
    "    restore_best_weights=True)\n",
    "\n",
    "model.compile(optimizer=keras.optimizers.Adam(lr=0.001),\n",
    "              loss='binary_crossentropy',\n",
    "              metrics=keras.metrics.AUC(name='auc'))"
   ]
  },
  {
   "cell_type": "code",
   "execution_count": 234,
   "id": "535dab1c-5b2e-49e9-9fdc-dd3c92a8d5c2",
   "metadata": {
    "collapsed": true,
    "jupyter": {
     "outputs_hidden": true
    },
    "tags": []
   },
   "outputs": [
    {
     "name": "stdout",
     "output_type": "stream",
     "text": [
      "Epoch 1/50\n",
      "46/48 [===========================>..] - ETA: 0s - loss: 0.6895 - auc: 0.5340WARNING:tensorflow:Early stopping conditioned on metric `accuracy` which is not available. Available metrics are: loss,auc,val_loss,val_auc\n",
      "48/48 [==============================] - 2s 14ms/step - loss: 0.6892 - auc: 0.5356 - val_loss: 0.6753 - val_auc: 0.5939\n",
      "Epoch 2/50\n",
      "40/48 [========================>.....] - ETA: 0s - loss: 0.6775 - auc: 0.5759WARNING:tensorflow:Early stopping conditioned on metric `accuracy` which is not available. Available metrics are: loss,auc,val_loss,val_auc\n",
      "48/48 [==============================] - 0s 5ms/step - loss: 0.6773 - auc: 0.5774 - val_loss: 0.6705 - val_auc: 0.6105\n",
      "Epoch 3/50\n",
      "41/48 [========================>.....] - ETA: 0s - loss: 0.6712 - auc: 0.6021WARNING:tensorflow:Early stopping conditioned on metric `accuracy` which is not available. Available metrics are: loss,auc,val_loss,val_auc\n",
      "48/48 [==============================] - 0s 5ms/step - loss: 0.6704 - auc: 0.6039 - val_loss: 0.6605 - val_auc: 0.6277\n",
      "Epoch 4/50\n",
      "43/48 [=========================>....] - ETA: 0s - loss: 0.6649 - auc: 0.6201WARNING:tensorflow:Early stopping conditioned on metric `accuracy` which is not available. Available metrics are: loss,auc,val_loss,val_auc\n",
      "48/48 [==============================] - 0s 5ms/step - loss: 0.6648 - auc: 0.6212 - val_loss: 0.6572 - val_auc: 0.6396\n",
      "Epoch 5/50\n",
      "37/48 [======================>.......] - ETA: 0s - loss: 0.6587 - auc: 0.6382WARNING:tensorflow:Early stopping conditioned on metric `accuracy` which is not available. Available metrics are: loss,auc,val_loss,val_auc\n",
      "48/48 [==============================] - 0s 5ms/step - loss: 0.6582 - auc: 0.6381 - val_loss: 0.6496 - val_auc: 0.6462\n",
      "Epoch 6/50\n",
      "40/48 [========================>.....] - ETA: 0s - loss: 0.6551 - auc: 0.6451WARNING:tensorflow:Early stopping conditioned on metric `accuracy` which is not available. Available metrics are: loss,auc,val_loss,val_auc\n",
      "48/48 [==============================] - 0s 5ms/step - loss: 0.6538 - auc: 0.6477 - val_loss: 0.6459 - val_auc: 0.6522\n",
      "Epoch 7/50\n",
      "39/48 [=======================>......] - ETA: 0s - loss: 0.6517 - auc: 0.6523WARNING:tensorflow:Early stopping conditioned on metric `accuracy` which is not available. Available metrics are: loss,auc,val_loss,val_auc\n",
      "48/48 [==============================] - 0s 5ms/step - loss: 0.6505 - auc: 0.6539 - val_loss: 0.6445 - val_auc: 0.6569\n",
      "Epoch 8/50\n",
      "36/48 [=====================>........] - ETA: 0s - loss: 0.6488 - auc: 0.6594WARNING:tensorflow:Early stopping conditioned on metric `accuracy` which is not available. Available metrics are: loss,auc,val_loss,val_auc\n",
      "48/48 [==============================] - 0s 5ms/step - loss: 0.6489 - auc: 0.6584 - val_loss: 0.6425 - val_auc: 0.6588\n",
      "Epoch 9/50\n",
      "45/48 [===========================>..] - ETA: 0s - loss: 0.6460 - auc: 0.6628WARNING:tensorflow:Early stopping conditioned on metric `accuracy` which is not available. Available metrics are: loss,auc,val_loss,val_auc\n",
      "48/48 [==============================] - 0s 5ms/step - loss: 0.6474 - auc: 0.6610 - val_loss: 0.6425 - val_auc: 0.6601\n",
      "Epoch 10/50\n",
      "41/48 [========================>.....] - ETA: 0s - loss: 0.6458 - auc: 0.6636WARNING:tensorflow:Early stopping conditioned on metric `accuracy` which is not available. Available metrics are: loss,auc,val_loss,val_auc\n",
      "48/48 [==============================] - 0s 5ms/step - loss: 0.6453 - auc: 0.6643 - val_loss: 0.6400 - val_auc: 0.6625\n",
      "Epoch 11/50\n",
      "41/48 [========================>.....] - ETA: 0s - loss: 0.6438 - auc: 0.6679WARNING:tensorflow:Early stopping conditioned on metric `accuracy` which is not available. Available metrics are: loss,auc,val_loss,val_auc\n",
      "48/48 [==============================] - 0s 6ms/step - loss: 0.6442 - auc: 0.6657 - val_loss: 0.6390 - val_auc: 0.6649\n",
      "Epoch 12/50\n",
      "41/48 [========================>.....] - ETA: 0s - loss: 0.6439 - auc: 0.6687WARNING:tensorflow:Early stopping conditioned on metric `accuracy` which is not available. Available metrics are: loss,auc,val_loss,val_auc\n",
      "48/48 [==============================] - 0s 6ms/step - loss: 0.6424 - auc: 0.6705 - val_loss: 0.6382 - val_auc: 0.6662\n",
      "Epoch 13/50\n",
      "41/48 [========================>.....] - ETA: 0s - loss: 0.6434 - auc: 0.6681WARNING:tensorflow:Early stopping conditioned on metric `accuracy` which is not available. Available metrics are: loss,auc,val_loss,val_auc\n",
      "48/48 [==============================] - 0s 5ms/step - loss: 0.6420 - auc: 0.6704 - val_loss: 0.6372 - val_auc: 0.6680\n",
      "Epoch 14/50\n",
      "35/48 [====================>.........] - ETA: 0s - loss: 0.6438 - auc: 0.6678WARNING:tensorflow:Early stopping conditioned on metric `accuracy` which is not available. Available metrics are: loss,auc,val_loss,val_auc\n",
      "48/48 [==============================] - 0s 4ms/step - loss: 0.6413 - auc: 0.6710 - val_loss: 0.6394 - val_auc: 0.6695\n",
      "Epoch 15/50\n",
      "38/48 [======================>.......] - ETA: 0s - loss: 0.6434 - auc: 0.6680WARNING:tensorflow:Early stopping conditioned on metric `accuracy` which is not available. Available metrics are: loss,auc,val_loss,val_auc\n",
      "48/48 [==============================] - 0s 4ms/step - loss: 0.6402 - auc: 0.6742 - val_loss: 0.6420 - val_auc: 0.6686\n",
      "Epoch 16/50\n",
      "38/48 [======================>.......] - ETA: 0s - loss: 0.6374 - auc: 0.6772WARNING:tensorflow:Early stopping conditioned on metric `accuracy` which is not available. Available metrics are: loss,auc,val_loss,val_auc\n",
      "48/48 [==============================] - 0s 4ms/step - loss: 0.6393 - auc: 0.6752 - val_loss: 0.6408 - val_auc: 0.6712\n",
      "Epoch 17/50\n",
      "38/48 [======================>.......] - ETA: 0s - loss: 0.6376 - auc: 0.6785WARNING:tensorflow:Early stopping conditioned on metric `accuracy` which is not available. Available metrics are: loss,auc,val_loss,val_auc\n",
      "48/48 [==============================] - 0s 4ms/step - loss: 0.6383 - auc: 0.6771 - val_loss: 0.6364 - val_auc: 0.6729\n",
      "Epoch 18/50\n",
      "38/48 [======================>.......] - ETA: 0s - loss: 0.6382 - auc: 0.6786WARNING:tensorflow:Early stopping conditioned on metric `accuracy` which is not available. Available metrics are: loss,auc,val_loss,val_auc\n",
      "48/48 [==============================] - 0s 4ms/step - loss: 0.6385 - auc: 0.6768 - val_loss: 0.6340 - val_auc: 0.6741\n",
      "Epoch 19/50\n",
      "46/48 [===========================>..] - ETA: 0s - loss: 0.6385 - auc: 0.6766WARNING:tensorflow:Early stopping conditioned on metric `accuracy` which is not available. Available metrics are: loss,auc,val_loss,val_auc\n",
      "48/48 [==============================] - 0s 5ms/step - loss: 0.6380 - auc: 0.6773 - val_loss: 0.6371 - val_auc: 0.6752\n",
      "Epoch 20/50\n",
      "44/48 [==========================>...] - ETA: 0s - loss: 0.6376 - auc: 0.6781WARNING:tensorflow:Early stopping conditioned on metric `accuracy` which is not available. Available metrics are: loss,auc,val_loss,val_auc\n",
      "48/48 [==============================] - 0s 4ms/step - loss: 0.6367 - auc: 0.6796 - val_loss: 0.6357 - val_auc: 0.6767\n",
      "Epoch 21/50\n",
      "40/48 [========================>.....] - ETA: 0s - loss: 0.6347 - auc: 0.6837WARNING:tensorflow:Early stopping conditioned on metric `accuracy` which is not available. Available metrics are: loss,auc,val_loss,val_auc\n",
      "48/48 [==============================] - 0s 4ms/step - loss: 0.6369 - auc: 0.6791 - val_loss: 0.6344 - val_auc: 0.6773\n",
      "Epoch 22/50\n",
      "38/48 [======================>.......] - ETA: 0s - loss: 0.6366 - auc: 0.6799WARNING:tensorflow:Early stopping conditioned on metric `accuracy` which is not available. Available metrics are: loss,auc,val_loss,val_auc\n",
      "48/48 [==============================] - 0s 4ms/step - loss: 0.6365 - auc: 0.6800 - val_loss: 0.6345 - val_auc: 0.6782\n",
      "Epoch 23/50\n",
      "36/48 [=====================>........] - ETA: 0s - loss: 0.6355 - auc: 0.6821WARNING:tensorflow:Early stopping conditioned on metric `accuracy` which is not available. Available metrics are: loss,auc,val_loss,val_auc\n",
      "48/48 [==============================] - 0s 6ms/step - loss: 0.6366 - auc: 0.6795 - val_loss: 0.6327 - val_auc: 0.6781\n",
      "Epoch 24/50\n",
      "42/48 [=========================>....] - ETA: 0s - loss: 0.6364 - auc: 0.6797WARNING:tensorflow:Early stopping conditioned on metric `accuracy` which is not available. Available metrics are: loss,auc,val_loss,val_auc\n",
      "48/48 [==============================] - 0s 3ms/step - loss: 0.6356 - auc: 0.6816 - val_loss: 0.6326 - val_auc: 0.6791\n",
      "Epoch 25/50\n",
      "42/48 [=========================>....] - ETA: 0s - loss: 0.6349 - auc: 0.6831WARNING:tensorflow:Early stopping conditioned on metric `accuracy` which is not available. Available metrics are: loss,auc,val_loss,val_auc\n",
      "48/48 [==============================] - 0s 3ms/step - loss: 0.6341 - auc: 0.6841 - val_loss: 0.6316 - val_auc: 0.6778\n",
      "Epoch 26/50\n",
      "39/48 [=======================>......] - ETA: 0s - loss: 0.6342 - auc: 0.6830WARNING:tensorflow:Early stopping conditioned on metric `accuracy` which is not available. Available metrics are: loss,auc,val_loss,val_auc\n",
      "48/48 [==============================] - 0s 4ms/step - loss: 0.6355 - auc: 0.6820 - val_loss: 0.6319 - val_auc: 0.6776\n",
      "Epoch 27/50\n",
      "42/48 [=========================>....] - ETA: 0s - loss: 0.6348 - auc: 0.6836WARNING:tensorflow:Early stopping conditioned on metric `accuracy` which is not available. Available metrics are: loss,auc,val_loss,val_auc\n",
      "48/48 [==============================] - 0s 3ms/step - loss: 0.6338 - auc: 0.6849 - val_loss: 0.6378 - val_auc: 0.6777\n",
      "Epoch 28/50\n",
      "40/48 [========================>.....] - ETA: 0s - loss: 0.6373 - auc: 0.6784WARNING:tensorflow:Early stopping conditioned on metric `accuracy` which is not available. Available metrics are: loss,auc,val_loss,val_auc\n",
      "48/48 [==============================] - 0s 4ms/step - loss: 0.6353 - auc: 0.6810 - val_loss: 0.6358 - val_auc: 0.6782\n",
      "Epoch 29/50\n",
      "37/48 [======================>.......] - ETA: 0s - loss: 0.6337 - auc: 0.6855WARNING:tensorflow:Early stopping conditioned on metric `accuracy` which is not available. Available metrics are: loss,auc,val_loss,val_auc\n",
      "48/48 [==============================] - 0s 4ms/step - loss: 0.6342 - auc: 0.6832 - val_loss: 0.6355 - val_auc: 0.6782\n",
      "Epoch 30/50\n",
      "39/48 [=======================>......] - ETA: 0s - loss: 0.6322 - auc: 0.6860WARNING:tensorflow:Early stopping conditioned on metric `accuracy` which is not available. Available metrics are: loss,auc,val_loss,val_auc\n",
      "48/48 [==============================] - 0s 4ms/step - loss: 0.6329 - auc: 0.6859 - val_loss: 0.6311 - val_auc: 0.6790\n",
      "Epoch 31/50\n",
      "40/48 [========================>.....] - ETA: 0s - loss: 0.6342 - auc: 0.6840WARNING:tensorflow:Early stopping conditioned on metric `accuracy` which is not available. Available metrics are: loss,auc,val_loss,val_auc\n",
      "48/48 [==============================] - 0s 3ms/step - loss: 0.6334 - auc: 0.6846 - val_loss: 0.6335 - val_auc: 0.6789\n",
      "Epoch 32/50\n",
      "42/48 [=========================>....] - ETA: 0s - loss: 0.6324 - auc: 0.6864WARNING:tensorflow:Early stopping conditioned on metric `accuracy` which is not available. Available metrics are: loss,auc,val_loss,val_auc\n",
      "48/48 [==============================] - 0s 3ms/step - loss: 0.6325 - auc: 0.6866 - val_loss: 0.6324 - val_auc: 0.6784\n",
      "Epoch 33/50\n",
      "43/48 [=========================>....] - ETA: 0s - loss: 0.6327 - auc: 0.6866WARNING:tensorflow:Early stopping conditioned on metric `accuracy` which is not available. Available metrics are: loss,auc,val_loss,val_auc\n",
      "48/48 [==============================] - 0s 3ms/step - loss: 0.6324 - auc: 0.6867 - val_loss: 0.6310 - val_auc: 0.6793\n",
      "Epoch 34/50\n",
      "42/48 [=========================>....] - ETA: 0s - loss: 0.6339 - auc: 0.6839WARNING:tensorflow:Early stopping conditioned on metric `accuracy` which is not available. Available metrics are: loss,auc,val_loss,val_auc\n",
      "48/48 [==============================] - 0s 3ms/step - loss: 0.6319 - auc: 0.6874 - val_loss: 0.6389 - val_auc: 0.6772\n",
      "Epoch 35/50\n",
      "43/48 [=========================>....] - ETA: 0s - loss: 0.6322 - auc: 0.6871WARNING:tensorflow:Early stopping conditioned on metric `accuracy` which is not available. Available metrics are: loss,auc,val_loss,val_auc\n",
      "48/48 [==============================] - 0s 3ms/step - loss: 0.6320 - auc: 0.6874 - val_loss: 0.6356 - val_auc: 0.6781\n",
      "Epoch 36/50\n",
      "42/48 [=========================>....] - ETA: 0s - loss: 0.6323 - auc: 0.6877WARNING:tensorflow:Early stopping conditioned on metric `accuracy` which is not available. Available metrics are: loss,auc,val_loss,val_auc\n",
      "48/48 [==============================] - 0s 3ms/step - loss: 0.6316 - auc: 0.6883 - val_loss: 0.6311 - val_auc: 0.6772\n",
      "Epoch 37/50\n",
      "42/48 [=========================>....] - ETA: 0s - loss: 0.6322 - auc: 0.6857WARNING:tensorflow:Early stopping conditioned on metric `accuracy` which is not available. Available metrics are: loss,auc,val_loss,val_auc\n",
      "48/48 [==============================] - 0s 3ms/step - loss: 0.6320 - auc: 0.6873 - val_loss: 0.6374 - val_auc: 0.6772\n",
      "Epoch 38/50\n",
      "39/48 [=======================>......] - ETA: 0s - loss: 0.6331 - auc: 0.6849WARNING:tensorflow:Early stopping conditioned on metric `accuracy` which is not available. Available metrics are: loss,auc,val_loss,val_auc\n",
      "48/48 [==============================] - 0s 5ms/step - loss: 0.6317 - auc: 0.6872 - val_loss: 0.6330 - val_auc: 0.6775\n",
      "Epoch 39/50\n",
      "35/48 [====================>.........] - ETA: 0s - loss: 0.6319 - auc: 0.6864WARNING:tensorflow:Early stopping conditioned on metric `accuracy` which is not available. Available metrics are: loss,auc,val_loss,val_auc\n",
      "48/48 [==============================] - 0s 4ms/step - loss: 0.6306 - auc: 0.6900 - val_loss: 0.6381 - val_auc: 0.6782\n",
      "Epoch 40/50\n",
      "33/48 [===================>..........] - ETA: 0s - loss: 0.6278 - auc: 0.6922WARNING:tensorflow:Early stopping conditioned on metric `accuracy` which is not available. Available metrics are: loss,auc,val_loss,val_auc\n",
      "48/48 [==============================] - 0s 5ms/step - loss: 0.6313 - auc: 0.6881 - val_loss: 0.6388 - val_auc: 0.6775\n",
      "Epoch 41/50\n",
      "42/48 [=========================>....] - ETA: 0s - loss: 0.6297 - auc: 0.6921WARNING:tensorflow:Early stopping conditioned on metric `accuracy` which is not available. Available metrics are: loss,auc,val_loss,val_auc\n",
      "48/48 [==============================] - 0s 3ms/step - loss: 0.6313 - auc: 0.6884 - val_loss: 0.6317 - val_auc: 0.6773\n",
      "Epoch 42/50\n",
      "42/48 [=========================>....] - ETA: 0s - loss: 0.6334 - auc: 0.6833WARNING:tensorflow:Early stopping conditioned on metric `accuracy` which is not available. Available metrics are: loss,auc,val_loss,val_auc\n",
      "48/48 [==============================] - 0s 3ms/step - loss: 0.6326 - auc: 0.6851 - val_loss: 0.6380 - val_auc: 0.6774\n",
      "Epoch 43/50\n",
      "42/48 [=========================>....] - ETA: 0s - loss: 0.6318 - auc: 0.6869WARNING:tensorflow:Early stopping conditioned on metric `accuracy` which is not available. Available metrics are: loss,auc,val_loss,val_auc\n",
      "48/48 [==============================] - 0s 4ms/step - loss: 0.6306 - auc: 0.6897 - val_loss: 0.6332 - val_auc: 0.6780\n",
      "Epoch 44/50\n",
      "36/48 [=====================>........] - ETA: 0s - loss: 0.6296 - auc: 0.6916WARNING:tensorflow:Early stopping conditioned on metric `accuracy` which is not available. Available metrics are: loss,auc,val_loss,val_auc\n",
      "48/48 [==============================] - 0s 5ms/step - loss: 0.6297 - auc: 0.6912 - val_loss: 0.6306 - val_auc: 0.6776\n",
      "Epoch 45/50\n",
      "45/48 [===========================>..] - ETA: 0s - loss: 0.6301 - auc: 0.6908WARNING:tensorflow:Early stopping conditioned on metric `accuracy` which is not available. Available metrics are: loss,auc,val_loss,val_auc\n",
      "48/48 [==============================] - 0s 5ms/step - loss: 0.6298 - auc: 0.6904 - val_loss: 0.6307 - val_auc: 0.6777\n",
      "Epoch 46/50\n",
      "37/48 [======================>.......] - ETA: 0s - loss: 0.6304 - auc: 0.6890WARNING:tensorflow:Early stopping conditioned on metric `accuracy` which is not available. Available metrics are: loss,auc,val_loss,val_auc\n",
      "48/48 [==============================] - 0s 4ms/step - loss: 0.6299 - auc: 0.6901 - val_loss: 0.6342 - val_auc: 0.6787\n",
      "Epoch 47/50\n",
      "40/48 [========================>.....] - ETA: 0s - loss: 0.6311 - auc: 0.6888WARNING:tensorflow:Early stopping conditioned on metric `accuracy` which is not available. Available metrics are: loss,auc,val_loss,val_auc\n",
      "48/48 [==============================] - 0s 4ms/step - loss: 0.6289 - auc: 0.6923 - val_loss: 0.6396 - val_auc: 0.6779\n",
      "Epoch 48/50\n",
      "41/48 [========================>.....] - ETA: 0s - loss: 0.6306 - auc: 0.6898WARNING:tensorflow:Early stopping conditioned on metric `accuracy` which is not available. Available metrics are: loss,auc,val_loss,val_auc\n",
      "48/48 [==============================] - 0s 4ms/step - loss: 0.6291 - auc: 0.6919 - val_loss: 0.6300 - val_auc: 0.6781\n",
      "Epoch 49/50\n",
      "43/48 [=========================>....] - ETA: 0s - loss: 0.6303 - auc: 0.6896WARNING:tensorflow:Early stopping conditioned on metric `accuracy` which is not available. Available metrics are: loss,auc,val_loss,val_auc\n",
      "48/48 [==============================] - 0s 5ms/step - loss: 0.6290 - auc: 0.6919 - val_loss: 0.6371 - val_auc: 0.6779\n",
      "Epoch 50/50\n",
      "33/48 [===================>..........] - ETA: 0s - loss: 0.6325 - auc: 0.6873WARNING:tensorflow:Early stopping conditioned on metric `accuracy` which is not available. Available metrics are: loss,auc,val_loss,val_auc\n",
      "48/48 [==============================] - 0s 4ms/step - loss: 0.6298 - auc: 0.6907 - val_loss: 0.6303 - val_auc: 0.6777\n"
     ]
    }
   ],
   "source": [
    "history = model.fit(X_train, y_train, \n",
    "                    epochs = 50, batch_size = 200, \n",
    "                    validation_split = 0.10, \n",
    "                    shuffle = True, callbacks=[early_stopping],)"
   ]
  },
  {
   "cell_type": "code",
   "execution_count": 237,
   "id": "7e038101-c14f-4ebf-b517-9dc1bd4ff397",
   "metadata": {},
   "outputs": [],
   "source": [
    "# a = model.evaluate(X_test, y_test)"
   ]
  },
  {
   "cell_type": "code",
   "execution_count": 243,
   "id": "7b214c55-5215-4020-8941-994d9db8431c",
   "metadata": {
    "tags": []
   },
   "outputs": [
    {
     "name": "stdout",
     "output_type": "stream",
     "text": [
      "61/61 [==============================] - 0s 3ms/step\n"
     ]
    }
   ],
   "source": [
    "a = model.predict(X_test)"
   ]
  },
  {
   "cell_type": "code",
   "execution_count": 247,
   "id": "3849de4a-19a7-41d3-952e-0672ab01c7ee",
   "metadata": {},
   "outputs": [],
   "source": [
    "# auc(a[:,0], y_test)"
   ]
  },
  {
   "cell_type": "code",
   "execution_count": 248,
   "id": "1759c11f-53b8-4eac-af74-0c5c75a1bee6",
   "metadata": {},
   "outputs": [],
   "source": [
    "test = StandardScaler().fit_transform(test)"
   ]
  },
  {
   "cell_type": "code",
   "execution_count": 249,
   "id": "bed9d229-4197-452a-a370-9b46144e2f00",
   "metadata": {},
   "outputs": [
    {
     "name": "stdout",
     "output_type": "stream",
     "text": [
      "169/169 [==============================] - 0s 2ms/step\n"
     ]
    }
   ],
   "source": [
    "pred = model.predict(test)"
   ]
  },
  {
   "cell_type": "code",
   "execution_count": 250,
   "id": "e84d4f2b-1203-436b-a814-ed20464390b1",
   "metadata": {},
   "outputs": [],
   "source": [
    "d_ = {'Entry_id' : ID, 'e_signed' : pred[:,0]}\n",
    "df_ = pd.DataFrame(data = d_)\n",
    "df_ = df_[['Entry_id', 'e_signed']]\n",
    "df_.to_csv('datafest_aisquad_nn.csv', index = False)"
   ]
  },
  {
   "cell_type": "code",
   "execution_count": 251,
   "id": "6617f45b-bfe8-4d78-b9a2-3656c28f7b2c",
   "metadata": {},
   "outputs": [
    {
     "data": {
      "text/html": [
       "<div>\n",
       "<style scoped>\n",
       "    .dataframe tbody tr th:only-of-type {\n",
       "        vertical-align: middle;\n",
       "    }\n",
       "\n",
       "    .dataframe tbody tr th {\n",
       "        vertical-align: top;\n",
       "    }\n",
       "\n",
       "    .dataframe thead th {\n",
       "        text-align: right;\n",
       "    }\n",
       "</style>\n",
       "<table border=\"1\" class=\"dataframe\">\n",
       "  <thead>\n",
       "    <tr style=\"text-align: right;\">\n",
       "      <th></th>\n",
       "      <th>Entry_id</th>\n",
       "      <th>e_signed</th>\n",
       "    </tr>\n",
       "  </thead>\n",
       "  <tbody>\n",
       "    <tr>\n",
       "      <th>0</th>\n",
       "      <td>3560428</td>\n",
       "      <td>0.429999</td>\n",
       "    </tr>\n",
       "    <tr>\n",
       "      <th>1</th>\n",
       "      <td>6934997</td>\n",
       "      <td>0.885229</td>\n",
       "    </tr>\n",
       "    <tr>\n",
       "      <th>2</th>\n",
       "      <td>5682812</td>\n",
       "      <td>0.489401</td>\n",
       "    </tr>\n",
       "    <tr>\n",
       "      <th>3</th>\n",
       "      <td>6493191</td>\n",
       "      <td>0.771760</td>\n",
       "    </tr>\n",
       "    <tr>\n",
       "      <th>4</th>\n",
       "      <td>8990111</td>\n",
       "      <td>0.429271</td>\n",
       "    </tr>\n",
       "  </tbody>\n",
       "</table>\n",
       "</div>"
      ],
      "text/plain": [
       "   Entry_id  e_signed\n",
       "0   3560428  0.429999\n",
       "1   6934997  0.885229\n",
       "2   5682812  0.489401\n",
       "3   6493191  0.771760\n",
       "4   8990111  0.429271"
      ]
     },
     "execution_count": 251,
     "metadata": {},
     "output_type": "execute_result"
    }
   ],
   "source": [
    "df_.head()"
   ]
  },
  {
   "cell_type": "markdown",
   "id": "34525616-2db1-46b9-9707-82f54f6eed0f",
   "metadata": {
    "jp-MarkdownHeadingCollapsed": true,
    "tags": []
   },
   "source": [
    "# Get"
   ]
  },
  {
   "cell_type": "code",
   "execution_count": 913,
   "id": "1f470838-a199-4a05-862e-91a28e7ab9fa",
   "metadata": {},
   "outputs": [],
   "source": [
    "import torch\n",
    "from torch.utils.data import DataLoader, TensorDataset\n",
    "import torch.nn as nn\n",
    "from torch.nn import functional as F"
   ]
  },
  {
   "cell_type": "code",
   "execution_count": 914,
   "id": "58d562c5-40d7-458a-9cdc-77f093ec549d",
   "metadata": {},
   "outputs": [],
   "source": [
    "# convert the data from the numpy array to tensor\n",
    "\n",
    "X_train = torch.tensor(X_train.values).float()\n",
    "y_train = torch.tensor(y_train.values).long().reshape(-1,1)\n",
    "\n",
    "X_test = torch.tensor(X_test.values).float()\n",
    "y_test = torch.tensor(y_test.values).long().reshape(-1,1)\n",
    "\n",
    "# Convert the splitted data of tensors to TensorDataset\n",
    "train_data = TensorDataset(X_train, y_train)\n",
    "test_data = TensorDataset(X_test, y_test)\n",
    "\n",
    "# From the tensordata set to mini batches \n",
    "train_data = DataLoader( train_data, \n",
    "                        batch_size= int(X_train.shape[0]/10),  # the data set will be devided into n equal mini batches\n",
    "                       shuffle= True, \n",
    "                       drop_last= True)\n",
    "\n",
    "test_data = DataLoader( test_data, shuffle = True )"
   ]
  },
  {
   "cell_type": "code",
   "execution_count": 915,
   "id": "597312cc-fe03-48d4-a3c4-63f0ecfcf127",
   "metadata": {},
   "outputs": [],
   "source": [
    "class Classifier(nn.Module):\n",
    "    def __init__(self):\n",
    "        super().__init__()\n",
    "        \n",
    "        # input layer \n",
    "        self.input = nn.Linear(X_train.shape[1], 8)\n",
    "        \n",
    "        # dense layer \n",
    "        \n",
    "        self.BN1 = nn.BatchNorm1d(8)\n",
    "        self.dense1 = nn.Linear(8,32)\n",
    "        \n",
    "        self.BN2 = nn.BatchNorm1d(32)\n",
    "        self.dense2 = nn.Linear(32,64)\n",
    "        \n",
    "        self.BN3 = nn.BatchNorm1d(64)\n",
    "        self.dense3 = nn.Linear(64, 32)\n",
    "        \n",
    "        self.BN4 = nn.BatchNorm1d(32)\n",
    "        self.dense4 = nn.Linear(32, 8)\n",
    "        \n",
    "        # Output Layer \n",
    "        self.output = nn.Linear(8, 2)\n",
    "        \n",
    "    def forward(self, x):\n",
    "        \n",
    "        x = F.leaky_relu( self.input(x) )\n",
    "        \n",
    "        x = self.BN1(x)\n",
    "        x = F.leaky_relu(self.dense1(x))\n",
    "        x = F.dropout(x, p = 0.2 , training= self.training )\n",
    "        \n",
    "        x = self.BN2(x)\n",
    "        x = F.leaky_relu(self.dense2(x))\n",
    "        x = F.dropout(x, p = 0.3 , training= self.training )\n",
    "        \n",
    "        x = self.BN3(x)\n",
    "        x = F.leaky_relu(self.dense3(x))\n",
    "        x = F.dropout(x, p = 0.2 , training= self.training )\n",
    "        \n",
    "        x = self.BN4(x)\n",
    "        x = F.leaky_relu(self.dense4(x))\n",
    "        x = F.dropout(x, p = 0.6 , training= self.training )\n",
    "        \n",
    "        x = self.output(x)\n",
    "        return x"
   ]
  },
  {
   "cell_type": "code",
   "execution_count": 916,
   "id": "eb78b4c0-c2fa-4184-9475-b85f9926865d",
   "metadata": {},
   "outputs": [],
   "source": [
    "# create a instance of a class\n",
    "model = Classifier()\n",
    "\n",
    "# loss function \n",
    "loss_fun = nn.CrossEntropyLoss()\n",
    "\n",
    "\n",
    "# optimizer \n",
    "optimizer = torch.optim.Adam(model.parameters() , lr= 0.001, weight_decay= 0.01)  "
   ]
  },
  {
   "cell_type": "code",
   "execution_count": 917,
   "id": "939eae26-14af-4207-8e98-136916e73209",
   "metadata": {},
   "outputs": [],
   "source": [
    "def model_train_and_validation(model, epoch):\n",
    "    \n",
    "    train_acc = []\n",
    "    test_acc = []\n",
    "    \n",
    "    train_loss = []\n",
    "    test_loss = []\n",
    "    # loop over every epoch\n",
    "    for epochi in range(epoch):\n",
    "        \n",
    "        # loop over traing data batches\n",
    "        bach_acc = []\n",
    "        bach_loss = []\n",
    "        for x,y in train_data: \n",
    "            \n",
    "            # forward propogation\n",
    "            yHat = model(x) \n",
    "            \n",
    "            # loss \n",
    "            loss = loss_fun(yHat, torch.squeeze(y) )\n",
    "            bach_loss.append(loss.detach().numpy())\n",
    "            \n",
    "            \n",
    "            # back propogation \n",
    "            optimizer.zero_grad()\n",
    "            loss.backward()\n",
    "            optimizer.step()\n",
    "            \n",
    "            \n",
    "            # compute batch accuracy \n",
    "            bach_acc.append( auc(torch.argmax( yHat,dim =1) ,y) )\n",
    "            \n",
    "            \n",
    "        # compute training accuracy and loss\n",
    "        train_acc.append(np.mean(bach_acc))\n",
    "        train_loss.append( np.mean(bach_loss) )\n",
    "        \n",
    "        # evaluation mode on\n",
    "        model.eval()\n",
    "        \n",
    "        \"\"\"\n",
    "        x,y = next(iter( test_data ) )\n",
    "        yHat = F.softmax(model(x), dim =1)\n",
    "        \"\"\"\n",
    "        test_acc.append( auc( torch.argmax(  F.softmax( model(X_test)), dim =1), y_test) )\n",
    "        test_loss.append( loss_fun( model(X_test), torch.squeeze(y_test) ).detach().numpy() )\n",
    "        # model back to train mode\n",
    "        model.train()\n",
    "        \n",
    "        print(f\" Epoch : {epochi}, Train AUC : {train_acc[epochi]}, Train Loss : {train_loss[epochi]} \")\n",
    "        \n",
    "    model.eval()  \n",
    "    return train_acc, train_loss, test_acc, test_loss"
   ]
  },
  {
   "cell_type": "code",
   "execution_count": 918,
   "id": "ef1aa9ee-5a01-4268-861b-b219ee561d3a",
   "metadata": {
    "collapsed": true,
    "jupyter": {
     "outputs_hidden": true
    },
    "tags": []
   },
   "outputs": [
    {
     "name": "stdout",
     "output_type": "stream",
     "text": [
      " Epoch : 0, Train AUC : 0.5146259430453002, Train Loss : 0.7177788615226746 \n",
      " Epoch : 1, Train AUC : 0.5292625402708658, Train Loss : 0.6982429623603821 \n",
      " Epoch : 2, Train AUC : 0.5254403867428021, Train Loss : 0.695320725440979 \n",
      " Epoch : 3, Train AUC : 0.535790631716152, Train Loss : 0.6871007680892944 \n",
      " Epoch : 4, Train AUC : 0.5326225412345913, Train Loss : 0.6857813000679016 \n",
      " Epoch : 5, Train AUC : 0.5284139244198826, Train Loss : 0.6840848922729492 \n",
      " Epoch : 6, Train AUC : 0.5359260600308442, Train Loss : 0.6794768571853638 \n",
      " Epoch : 7, Train AUC : 0.5371910663498547, Train Loss : 0.6790865659713745 \n",
      " Epoch : 8, Train AUC : 0.5296219190788073, Train Loss : 0.6774458885192871 \n",
      " Epoch : 9, Train AUC : 0.546532003362072, Train Loss : 0.6758118867874146 \n",
      " Epoch : 10, Train AUC : 0.5418799002077505, Train Loss : 0.6760997176170349 \n",
      " Epoch : 11, Train AUC : 0.5351844332176189, Train Loss : 0.6753140687942505 \n",
      " Epoch : 12, Train AUC : 0.541866307304536, Train Loss : 0.6745738387107849 \n",
      " Epoch : 13, Train AUC : 0.5272660315338051, Train Loss : 0.6756154894828796 \n",
      " Epoch : 14, Train AUC : 0.5394437751103336, Train Loss : 0.6738056540489197 \n",
      " Epoch : 15, Train AUC : 0.5516981920861613, Train Loss : 0.670289933681488 \n",
      " Epoch : 16, Train AUC : 0.5503908743014791, Train Loss : 0.6699836254119873 \n",
      " Epoch : 17, Train AUC : 0.5513263529363478, Train Loss : 0.6719053387641907 \n",
      " Epoch : 18, Train AUC : 0.5443542422268302, Train Loss : 0.6745622158050537 \n",
      " Epoch : 19, Train AUC : 0.5486911972891075, Train Loss : 0.6715944409370422 \n",
      " Epoch : 20, Train AUC : 0.5479315984692289, Train Loss : 0.6698970794677734 \n",
      " Epoch : 21, Train AUC : 0.5515195120407912, Train Loss : 0.6705199480056763 \n",
      " Epoch : 22, Train AUC : 0.5576597805140215, Train Loss : 0.6690694093704224 \n",
      " Epoch : 23, Train AUC : 0.5586969679994802, Train Loss : 0.6677404046058655 \n",
      " Epoch : 24, Train AUC : 0.5550639469477325, Train Loss : 0.6686394810676575 \n",
      " Epoch : 25, Train AUC : 0.5616431504833093, Train Loss : 0.6653392314910889 \n",
      " Epoch : 26, Train AUC : 0.5672186954384715, Train Loss : 0.6679365634918213 \n",
      " Epoch : 27, Train AUC : 0.579351739263147, Train Loss : 0.6657269597053528 \n",
      " Epoch : 28, Train AUC : 0.5699060767168138, Train Loss : 0.6673892140388489 \n",
      " Epoch : 29, Train AUC : 0.570692561248641, Train Loss : 0.6653670072555542 \n",
      " Epoch : 30, Train AUC : 0.5653472943292497, Train Loss : 0.669211745262146 \n",
      " Epoch : 31, Train AUC : 0.5706482475492555, Train Loss : 0.6655833125114441 \n",
      " Epoch : 32, Train AUC : 0.5727523814979831, Train Loss : 0.6670569777488708 \n",
      " Epoch : 33, Train AUC : 0.5801473267077294, Train Loss : 0.6626920700073242 \n",
      " Epoch : 34, Train AUC : 0.577855692320856, Train Loss : 0.6655810475349426 \n",
      " Epoch : 35, Train AUC : 0.5765080677931342, Train Loss : 0.6642261743545532 \n",
      " Epoch : 36, Train AUC : 0.5758102815528795, Train Loss : 0.6654850244522095 \n",
      " Epoch : 37, Train AUC : 0.5689269337875692, Train Loss : 0.6664546132087708 \n",
      " Epoch : 38, Train AUC : 0.5731602382112431, Train Loss : 0.66597980260849 \n",
      " Epoch : 39, Train AUC : 0.5781531064513372, Train Loss : 0.6628784537315369 \n",
      " Epoch : 40, Train AUC : 0.5809055853435018, Train Loss : 0.6637361645698547 \n",
      " Epoch : 41, Train AUC : 0.5800822916358048, Train Loss : 0.6625522971153259 \n",
      " Epoch : 42, Train AUC : 0.5802091655670976, Train Loss : 0.6625000238418579 \n",
      " Epoch : 43, Train AUC : 0.5765454724529466, Train Loss : 0.6633946299552917 \n",
      " Epoch : 44, Train AUC : 0.5802555118226654, Train Loss : 0.6647118926048279 \n",
      " Epoch : 45, Train AUC : 0.586680392482785, Train Loss : 0.6602434515953064 \n",
      " Epoch : 46, Train AUC : 0.5856184903375204, Train Loss : 0.6617349982261658 \n",
      " Epoch : 47, Train AUC : 0.5885417789820326, Train Loss : 0.6616613268852234 \n",
      " Epoch : 48, Train AUC : 0.5925640679469396, Train Loss : 0.6604148149490356 \n",
      " Epoch : 49, Train AUC : 0.5836456984657808, Train Loss : 0.6593574285507202 \n",
      " Epoch : 50, Train AUC : 0.5812844920917505, Train Loss : 0.6659921407699585 \n",
      " Epoch : 51, Train AUC : 0.5819953505002714, Train Loss : 0.6607406735420227 \n",
      " Epoch : 52, Train AUC : 0.5857230826037529, Train Loss : 0.6597812175750732 \n",
      " Epoch : 53, Train AUC : 0.5886877574243762, Train Loss : 0.659803569316864 \n",
      " Epoch : 54, Train AUC : 0.5847921366436888, Train Loss : 0.6574761867523193 \n",
      " Epoch : 55, Train AUC : 0.5887870590730176, Train Loss : 0.6583837270736694 \n",
      " Epoch : 56, Train AUC : 0.5933418533940478, Train Loss : 0.6579086184501648 \n",
      " Epoch : 57, Train AUC : 0.5931487968423491, Train Loss : 0.6589274406433105 \n",
      " Epoch : 58, Train AUC : 0.5896681265272191, Train Loss : 0.6577998399734497 \n",
      " Epoch : 59, Train AUC : 0.596621940512162, Train Loss : 0.6592990159988403 \n",
      " Epoch : 60, Train AUC : 0.5887016287579738, Train Loss : 0.660637378692627 \n",
      " Epoch : 61, Train AUC : 0.5857257369875477, Train Loss : 0.6601916551589966 \n",
      " Epoch : 62, Train AUC : 0.5858346025290296, Train Loss : 0.6603056192398071 \n",
      " Epoch : 63, Train AUC : 0.5878027684017288, Train Loss : 0.6604644060134888 \n",
      " Epoch : 64, Train AUC : 0.591036526866792, Train Loss : 0.6604539155960083 \n",
      " Epoch : 65, Train AUC : 0.5996193718224719, Train Loss : 0.6560410261154175 \n",
      " Epoch : 66, Train AUC : 0.6007539193091608, Train Loss : 0.6566515564918518 \n",
      " Epoch : 67, Train AUC : 0.5808513585189649, Train Loss : 0.6604083776473999 \n",
      " Epoch : 68, Train AUC : 0.5918837577202513, Train Loss : 0.6611238121986389 \n",
      " Epoch : 69, Train AUC : 0.5935255896315563, Train Loss : 0.6593198776245117 \n",
      " Epoch : 70, Train AUC : 0.59504969557621, Train Loss : 0.6583428382873535 \n",
      " Epoch : 71, Train AUC : 0.5977037147054587, Train Loss : 0.6582794785499573 \n",
      " Epoch : 72, Train AUC : 0.5867383683574655, Train Loss : 0.6587239503860474 \n",
      " Epoch : 73, Train AUC : 0.5845079162600746, Train Loss : 0.6579797863960266 \n",
      " Epoch : 74, Train AUC : 0.5970845992248703, Train Loss : 0.655594527721405 \n",
      " Epoch : 75, Train AUC : 0.6004254772292729, Train Loss : 0.6580290794372559 \n",
      " Epoch : 76, Train AUC : 0.6035774583716039, Train Loss : 0.6582275629043579 \n",
      " Epoch : 77, Train AUC : 0.595756654132642, Train Loss : 0.657974123954773 \n",
      " Epoch : 78, Train AUC : 0.5982600641112212, Train Loss : 0.6569956541061401 \n",
      " Epoch : 79, Train AUC : 0.5976774172129412, Train Loss : 0.6552817225456238 \n",
      " Epoch : 80, Train AUC : 0.5961806116788009, Train Loss : 0.6596919298171997 \n",
      " Epoch : 81, Train AUC : 0.5966130397527489, Train Loss : 0.658275306224823 \n",
      " Epoch : 82, Train AUC : 0.5978373167522598, Train Loss : 0.6600802540779114 \n",
      " Epoch : 83, Train AUC : 0.5970016831662399, Train Loss : 0.6595101952552795 \n",
      " Epoch : 84, Train AUC : 0.5970654702506614, Train Loss : 0.6571264863014221 \n",
      " Epoch : 85, Train AUC : 0.5874988049009461, Train Loss : 0.6613974571228027 \n",
      " Epoch : 86, Train AUC : 0.5968684986281457, Train Loss : 0.6559545993804932 \n",
      " Epoch : 87, Train AUC : 0.5976797415863592, Train Loss : 0.6569585204124451 \n",
      " Epoch : 88, Train AUC : 0.6012852635775342, Train Loss : 0.6562796831130981 \n",
      " Epoch : 89, Train AUC : 0.5941383715225773, Train Loss : 0.6569462418556213 \n",
      " Epoch : 90, Train AUC : 0.5867982681887034, Train Loss : 0.6593220233917236 \n",
      " Epoch : 91, Train AUC : 0.5870351151859561, Train Loss : 0.6592187285423279 \n",
      " Epoch : 92, Train AUC : 0.5947702187361387, Train Loss : 0.6571555137634277 \n",
      " Epoch : 93, Train AUC : 0.5939454333241511, Train Loss : 0.6561282873153687 \n",
      " Epoch : 94, Train AUC : 0.5933966329016171, Train Loss : 0.6538861989974976 \n",
      " Epoch : 95, Train AUC : 0.6017848611833891, Train Loss : 0.6562028527259827 \n",
      " Epoch : 96, Train AUC : 0.5902767715585954, Train Loss : 0.6580834984779358 \n",
      " Epoch : 97, Train AUC : 0.5827917355779648, Train Loss : 0.6590827107429504 \n",
      " Epoch : 98, Train AUC : 0.5806580765904414, Train Loss : 0.6583133935928345 \n",
      " Epoch : 99, Train AUC : 0.5974215997701141, Train Loss : 0.6546931266784668 \n"
     ]
    }
   ],
   "source": [
    "train_acc, train_loss, test_acc, test_loss = model_train_and_validation(model, 100)"
   ]
  },
  {
   "cell_type": "code",
   "execution_count": 919,
   "id": "5ecba44a-48c9-401f-9361-3065c24db53c",
   "metadata": {},
   "outputs": [
    {
     "data": {
      "image/png": "[encoded data removed]",
      "text/plain": [
       "<Figure size 1440x504 with 1 Axes>"
      ]
     },
     "metadata": {
      "needs_background": "light"
     },
     "output_type": "display_data"
    }
   ],
   "source": [
    "plt.figure(figsize= (20,7))\n",
    "\n",
    "plt.plot(train_acc, label = \"train auc\")\n",
    "plt.plot( train_loss, label = \"train loss\" )\n",
    "plt.plot( test_acc, label = \"test auc\" )\n",
    "plt.plot( test_loss, label = \"test loss\" )\n",
    "plt.legend()\n",
    "plt.grid()\n",
    "plt.show()"
   ]
  },
  {
   "cell_type": "code",
   "execution_count": 890,
   "id": "28475983-e23c-4687-89ca-1e6f15c358a3",
   "metadata": {},
   "outputs": [
    {
     "data": {
      "text/plain": [
       "Classifier(\n",
       "  (input): Linear(in_features=38, out_features=16, bias=True)\n",
       "  (BN1): BatchNorm1d(16, eps=1e-05, momentum=0.1, affine=True, track_running_stats=True)\n",
       "  (dense1): Linear(in_features=16, out_features=32, bias=True)\n",
       "  (BN2): BatchNorm1d(32, eps=1e-05, momentum=0.1, affine=True, track_running_stats=True)\n",
       "  (dense2): Linear(in_features=32, out_features=64, bias=True)\n",
       "  (BN3): BatchNorm1d(64, eps=1e-05, momentum=0.1, affine=True, track_running_stats=True)\n",
       "  (dense3): Linear(in_features=64, out_features=32, bias=True)\n",
       "  (BN4): BatchNorm1d(32, eps=1e-05, momentum=0.1, affine=True, track_running_stats=True)\n",
       "  (dense4): Linear(in_features=32, out_features=16, bias=True)\n",
       "  (output): Linear(in_features=16, out_features=2, bias=True)\n",
       ")"
      ]
     },
     "execution_count": 891,
     "metadata": {},
     "output_type": "execute_result"
    }
   ],
   "source": [
    "model(test)"
   ]
  },
  {
   "cell_type": "code",
   "execution_count": null,
   "id": "98099f93-42d2-4779-8d81-b01c8984f368",
   "metadata": {},
   "outputs": [],
   "source": []
  }
 ],
 "metadata": {
  "kernelspec": {
   "display_name": "Python 3 (ipykernel)",
   "language": "python",
   "name": "python3"
  },
  "language_info": {
   "codemirror_mode": {
    "name": "ipython",
    "version": 3
   },
   "file_extension": ".py",
   "mimetype": "text/x-python",
   "name": "python",
   "nbconvert_exporter": "python",
   "pygments_lexer": "ipython3",
   "version": "3.9.12"
  }
 },
 "nbformat": 4,
 "nbformat_minor": 5
}
