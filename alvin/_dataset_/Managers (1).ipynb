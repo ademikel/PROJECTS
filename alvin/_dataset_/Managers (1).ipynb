{
 "cells": [
  {
   "cell_type": "code",
   "execution_count": 1,
   "id": "a3a070a5-ef78-4226-9511-c42bff8a6aa7",
   "metadata": {
    "id": "UUGcJRBRcCNI",
    "tags": []
   },
   "outputs": [],
   "source": [
    "# !pip -q install git+https://github.com/eaedk/testing-zindi-package.git\n",
    "# from zindi.user import Zindian\n",
    "# USERNAME = \"adetoromichael346@gmail.com\" #@param {type : \"string\"}\n",
    "# user = Zindian(username=USERNAME)\n",
    "# user.select_a_challenge(reward='all', kind='competition', active='true')\n",
    "# user.download_dataset(destination=\"dataset\")"
   ]
  },
  {
   "cell_type": "code",
   "execution_count": 270,
   "id": "e3269279",
   "metadata": {
    "id": "e3269279",
    "tags": []
   },
   "outputs": [],
   "source": [
    "# dependencies\n",
    "import re\n",
    "import pandas as pd\n",
    "pd.options.display.max_columns = 999\n",
    "pd.options.display.max_rows = 999\n",
    "import matplotlib.pyplot as plt\n",
    "import numpy as np\n",
    "import seaborn as sns\n",
    "\n",
    "from sklearn.preprocessing import LabelEncoder\n",
    "from sklearn.model_selection import train_test_split, StratifiedKFold, KFold, StratifiedShuffleSplit\n",
    "from sklearn.ensemble import RandomForestClassifier\n",
    "from catboost import Pool, CatBoostClassifier, CatBoostRegressor\n",
    "from lightgbm import LGBMClassifier\n",
    "from sklearn.cluster import KMeans\n",
    "from collections import Counter\n",
    "from sklearn.metrics import log_loss\n",
    "from imblearn.over_sampling import SMOTE\n",
    "# from imblearn.combine import SMOTEENN\n",
    "\n",
    "import warnings\n",
    "warnings.filterwarnings('ignore')"
   ]
  },
  {
   "cell_type": "code",
   "execution_count": 271,
   "id": "4407de53-eaaf-4a71-8df9-55d21238d412",
   "metadata": {
    "colab": {
     "base_uri": "https://localhost:8080/"
    },
    "id": "9e37786d",
    "outputId": "99e39972-f5f2-44b3-b940-d48e0d4b0be1"
   },
   "outputs": [],
   "source": [
    "Train = pd.read_csv('Train.csv')\n",
    "Test = pd.read_csv('Test.csv')\n",
    "extra = pd.read_csv('extra_data.csv')\n",
    "sub = pd.read_csv('SampleSubmission.csv')\n",
    "random_seed = 42 # random seed for all computations\n",
    "\n",
    "data = pd.concat([Train, Test], sort = False).reset_index(drop = True)"
   ]
  },
  {
   "cell_type": "code",
   "execution_count": 272,
   "id": "523fa75a-db83-4b0c-adc7-97c4360cafae",
   "metadata": {
    "id": "R-E7Ut0k8KjP",
    "tags": []
   },
   "outputs": [],
   "source": [
    "data['PURCHASED_AT'] = pd.to_datetime(data['PURCHASED_AT'])\n",
    "data['MERCHANT_CATEGORIZED_AT'] = pd.to_datetime(data['MERCHANT_CATEGORIZED_AT'])\n",
    "data['year'] = data['PURCHASED_AT'].dt.year\n",
    "data['month'] = data['PURCHASED_AT'].dt.month\n",
    "data['day'] = data['PURCHASED_AT'].dt.day\n",
    "data['hour'] = data['PURCHASED_AT'].dt.hour\n",
    "data['minute'] = data['PURCHASED_AT'].dt.minute\n",
    "data['second'] = data['PURCHASED_AT'].dt.second\n",
    "data['dayofweek'] = data['PURCHASED_AT'].dt.dayofweek\n",
    "data['ismonthend'] = data['PURCHASED_AT'].dt.is_month_end\n",
    "data['ismonthstart'] = data['PURCHASED_AT'].dt.is_month_start\n",
    "data['period'] = pd.cut(data['hour'], bins = [0.0, 5.0, 11.0, 17.0, 23.0], labels=['Midnight', 'Morning', 'Afternoon', 'Evening'])\n",
    "data['month_day'] = data['month'].astype(str) + '-' + data['day'].astype(str)\n",
    "# data['delta_period'] = (data['PURCHASED_AT'] - data['MERCHANT_CATEGORIZED_AT']).dt.total_seconds()/(60*60*24)\n",
    "\n",
    "freq_coll = ['MERCHANT_NAME']\n",
    "for col in freq_coll:\n",
    "    data[col] = data[col].map(data.groupby(col).size() / len(data))\n",
    "\n",
    "le = LabelEncoder()\n",
    "LE_cols = ['USER_ID', 'IS_PURCHASE_PAID_VIA_MPESA_SEND_MONEY', 'month_day']\n",
    "for le_col in LE_cols:\n",
    "    data[le_col] = le.fit_transform(data[le_col])\n",
    "\n",
    "cols2dum = ['period', 'ismonthend', 'ismonthstart', 'USER_GENDER']\n",
    "data = pd.get_dummies(data, prefix_sep = '_', columns = cols2dum)\n",
    "\n",
    "# data['_date_by_purchase'] = data['PURCHASE_VALUE'].groupby(data['month_day']).transform('mean')\n",
    "data['income_by_name'] = data['MERCHANT_NAME'].groupby(data['USER_ID']).transform('mean')\n",
    "data['name_by_purchase'] = data['PURCHASE_VALUE'].groupby(data['MERCHANT_NAME']).transform('mean')\n",
    "data['name_by_income'] = data['USER_INCOME'].groupby(data['MERCHANT_NAME']).transform('mean')\n",
    "data['income_per_household'] = data.USER_INCOME\t/ data.USER_HOUSEHOLD\n",
    "\n",
    "data.drop(['Transaction_ID', 'USER_AGE', 'MERCHANT_CATEGORIZED_AT', 'PURCHASED_AT', 'USER_HOUSEHOLD', 'day'], 1, inplace = True)\n",
    "data_km = data.drop(['MERCHANT_CATEGORIZED_AS'], axis = 1)\n",
    "km = KMeans(n_clusters = 13, random_state = random_seed)\n",
    "data['cluster'] = km.fit_predict(data_km)"
   ]
  },
  {
   "cell_type": "code",
   "execution_count": 273,
   "id": "92cef5a2-7f40-4f8b-91ec-9940df81a4c6",
   "metadata": {
    "tags": []
   },
   "outputs": [],
   "source": [
    "# data.MERCHANT_CATEGORIZED_AS = le.fit_transform(data.MERCHANT_CATEGORIZED_AS)\n",
    "# data.corr()['MERCHANT_CATEGORIZED_AS'][:]"
   ]
  },
  {
   "cell_type": "code",
   "execution_count": 274,
   "id": "56f2b8f2",
   "metadata": {
    "colab": {
     "base_uri": "https://localhost:8080/"
    },
    "id": "56f2b8f2",
    "outputId": "65fd28cf-9e73-4b49-84f5-7c906bcd91ba"
   },
   "outputs": [
    {
     "name": "stdout",
     "output_type": "stream",
     "text": [
      "shape (373, 28) (558, 27)\n"
     ]
    }
   ],
   "source": [
    "# separating data into train and test\n",
    "train = data[data.MERCHANT_CATEGORIZED_AS.notnull()].reset_index(drop = True)\n",
    "test = data[data.MERCHANT_CATEGORIZED_AS.isna()].reset_index(drop = True)\n",
    "test.drop('MERCHANT_CATEGORIZED_AS', axis = 1, inplace = True)\n",
    "print('shape', train.shape, test.shape)"
   ]
  },
  {
   "cell_type": "code",
   "execution_count": 275,
   "id": "d2825a45",
   "metadata": {
    "id": "d2825a45"
   },
   "outputs": [],
   "source": [
    "X, y = train.drop('MERCHANT_CATEGORIZED_AS', axis = 1), train[\"MERCHANT_CATEGORIZED_AS\"]"
   ]
  },
  {
   "cell_type": "code",
   "execution_count": 276,
   "id": "8967927d-da17-4158-ac2d-74345548cc60",
   "metadata": {
    "colab": {
     "base_uri": "https://localhost:8080/"
    },
    "id": "-t-5OMreAaHb",
    "outputId": "4417403a-dfde-4a06-b0c3-a34675d87d73",
    "tags": []
   },
   "outputs": [
    {
     "data": {
      "text/plain": [
       "<catboost.core.CatBoostClassifier at 0x2356f104dc0>"
      ]
     },
     "execution_count": 276,
     "metadata": {},
     "output_type": "execute_result"
    }
   ],
   "source": [
    "cb_model = CatBoostClassifier(l2_leaf_reg = 9.441413522475084, depth = 7, bootstrap_type = 'Bayesian', learning_rate = 0.01772339213540557, n_estimators = 3167,\n",
    "                                                 leaf_estimation_iterations = 1, random_strength = 0.17095032711212016, loss_function = 'MultiClass', verbose = 0, random_state = random_seed)\n",
    "cb_model.fit(X, y)\n",
    "print(\"training finished\")"
   ]
  },
  {
   "cell_type": "code",
   "execution_count": 282,
   "id": "ede1dcbb-615e-4d72-ac63-1428c361ab93",
   "metadata": {},
   "outputs": [],
   "source": [
    "TARGET_COL = 'MERCHANT_CATEGORIZED_AS'\n",
    "remove_features = ['MERCHANT_CATEGORIZED_AS', 'folds']\n",
    "features_columns = [col for col in train.columns if col not in remove_features]\n",
    "cat_ = le.fit_transform(train.MERCHANT_CATEGORIZED_AS)\n",
    "def create_folds(data):\n",
    "    data[\"folds\"] = -1\n",
    "    data = data.sample(frac = 1).reset_index(drop = True)\n",
    "    num_bins = np.floor(1 + np.log2(len(train))).astype(int)\n",
    "    data.loc[:, \"bins\"] = pd.cut(cat_, bins = num_bins, labels = False)\n",
    "    # kf = StratifiedShuffleSplit(n_splits = 5)\n",
    "    kf = StratifiedKFold(n_splits = 5)\n",
    "    # kf = KFold(n_splits = 5)\n",
    "    for f, (t_, v_) in enumerate(kf.split(X = data, y = data.bins.values)):\n",
    "        data.loc[v_, \"folds\"] = f\n",
    "    data.drop(\"bins\", axis = 1, inplace = True)\n",
    "    return data\n",
    "train = create_folds(train)"
   ]
  },
  {
   "cell_type": "code",
   "execution_count": 278,
   "id": "a5123c05-4885-4dd3-8a55-9ef827be3864",
   "metadata": {},
   "outputs": [
    {
     "name": "stdout",
     "output_type": "stream",
     "text": [
      "--------------------\n",
      "fold  1  finished\n",
      "--------------------\n",
      "fold  2  finished\n",
      "--------------------\n",
      "fold  3  finished\n",
      "--------------------\n",
      "fold  4  finished\n",
      "--------------------\n",
      "fold  5  finished\n",
      "--------------------\n"
     ]
    }
   ],
   "source": [
    "print(\"-\" * 20)\n",
    "for fold in range(5):\n",
    "    x_train_, y_train_ = train[train['folds']!=fold][features_columns] , train[train['folds']!=fold][TARGET_COL] \n",
    "    x_test_, y_test_ = train[train['folds']==fold][features_columns] , train[train['folds']==fold][TARGET_COL]\n",
    "    model_ = CatBoostClassifier(loss_function = 'MultiClass', verbose = 0, random_state = random_seed)\n",
    "    model_.fit(x_train_, y_train_)\n",
    "    print(\"fold \", fold + 1, \" finished\")\n",
    "    print(\"-\" * 20)"
   ]
  },
  {
   "cell_type": "code",
   "execution_count": 279,
   "id": "iUQ4d5Ovd-b2",
   "metadata": {
    "id": "iUQ4d5Ovd-b2"
   },
   "outputs": [],
   "source": [
    "def predict_and_submit(test_, filename):\n",
    "    d = {\"Transaction_ID\": sub[\"Transaction_ID\"], 'Bills & Fees':test_[:, 0], 'Data & WiFi':test_[:, 1], 'Education':test_[:, 2], 'Emergency fund':test_[:, 3],'Family & Friends':test_[:, 4],'Going out':test_[:, 5],'Groceries':test_[:, 6],\\\n",
    "        'Health':test_[:, 7],'Loan Repayment':test_[:, 8],'Miscellaneous':test_[:, 9],'Rent / Mortgage':test_[:, 10],'Shopping':test_[:, 11],'Transport & Fuel':test_[:, 12]}\n",
    "    df_ = pd.DataFrame(data=d)\n",
    "    df_ = df_[[\"Transaction_ID\", 'Bills & Fees','Data & WiFi','Education','Emergency fund','Family & Friends','Going out','Groceries','Health','Loan Repayment','Miscellaneous','Rent / Mortgage','Shopping','Transport & Fuel']]\n",
    "    df_.to_csv(f'{filename}.csv', index = False)\n",
    "    return df_.shape"
   ]
  },
  {
   "cell_type": "code",
   "execution_count": 281,
   "id": "f852c3df",
   "metadata": {
    "colab": {
     "base_uri": "https://localhost:8080/"
    },
    "id": "f852c3df",
    "outputId": "38550126-c1ca-44e7-b7d8-ffab44c0090c"
   },
   "outputs": [
    {
     "data": {
      "text/plain": [
       "(558, 14)"
      ]
     },
     "execution_count": 281,
     "metadata": {},
     "output_type": "execute_result"
    }
   ],
   "source": [
    "y_a = model_.predict_proba(test)\n",
    "predict_and_submit(y_a, 'Manager_1.024')"
   ]
  },
  {
   "cell_type": "code",
   "execution_count": null,
   "id": "8c085559-1acf-4417-898f-ac76be5ba120",
   "metadata": {},
   "outputs": [],
   "source": []
  }
 ],
 "metadata": {
  "accelerator": "GPU",
  "colab": {
   "collapsed_sections": [],
   "name": "Managers.ipynb",
   "provenance": []
  },
  "gpuClass": "standard",
  "kernelspec": {
   "display_name": "Python 3 (ipykernel)",
   "language": "python",
   "name": "python3"
  },
  "language_info": {
   "codemirror_mode": {
    "name": "ipython",
    "version": 3
   },
   "file_extension": ".py",
   "mimetype": "text/x-python",
   "name": "python",
   "nbconvert_exporter": "python",
   "pygments_lexer": "ipython3",
   "version": "3.9.12"
  }
 },
 "nbformat": 4,
 "nbformat_minor": 5
}
