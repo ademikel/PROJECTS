{
 "cells": [
  {
   "cell_type": "code",
   "execution_count": 1,
   "id": "a3a070a5-ef78-4226-9511-c42bff8a6aa7",
   "metadata": {
    "id": "UUGcJRBRcCNI",
    "tags": []
   },
   "outputs": [],
   "source": [
    "# !pip -q install git+https://github.com/eaedk/testing-zindi-package.git\n",
    "# from zindi.user import Zindian\n",
    "# USERNAME = \"adetoromichael346@gmail.com\" #@param {type : \"string\"}\n",
    "# user = Zindian(username=USERNAME)\n",
    "# user.select_a_challenge(reward='all', kind='competition', active='true')\n",
    "# user.download_dataset(destination=\"dataset\")"
   ]
  },
  {
   "cell_type": "code",
   "execution_count": 2,
   "id": "e3269279",
   "metadata": {
    "id": "e3269279",
    "tags": []
   },
   "outputs": [],
   "source": [
    "# dependencies\n",
    "import re\n",
    "import pandas as pd\n",
    "pd.options.display.max_columns = 999\n",
    "pd.options.display.max_rows = 999\n",
    "import matplotlib.pyplot as plt\n",
    "import numpy as np\n",
    "import seaborn as sns\n",
    "\n",
    "from sklearn.preprocessing import LabelEncoder\n",
    "from sklearn.model_selection import train_test_split, StratifiedKFold, KFold, StratifiedShuffleSplit\n",
    "from sklearn.ensemble import RandomForestClassifier\n",
    "from catboost import Pool, CatBoostClassifier\n",
    "from lightgbm import LGBMClassifier\n",
    "from sklearn.cluster import KMeans\n",
    "# from collections import Counter\n",
    "from sklearn.metrics import log_loss\n",
    "from imblearn.over_sampling import SMOTE, RandomOverSampler\n",
    "\n",
    "import warnings\n",
    "warnings.filterwarnings('ignore')"
   ]
  },
  {
   "cell_type": "code",
   "execution_count": 3,
   "id": "4407de53-eaaf-4a71-8df9-55d21238d412",
   "metadata": {
    "colab": {
     "base_uri": "https://localhost:8080/"
    },
    "id": "9e37786d",
    "outputId": "99e39972-f5f2-44b3-b940-d48e0d4b0be1"
   },
   "outputs": [],
   "source": [
    "train = pd.read_csv('Train.csv')\n",
    "test = pd.read_csv('Test.csv')\n",
    "extra = pd.read_csv('extra_data.csv')\n",
    "sub = pd.read_csv('SampleSubmission.csv')\n",
    "random_seed = 101\n",
    "train['train'] = 0\n",
    "test['train'] = 1\n",
    "data = pd.concat([train, test], sort = False).reset_index(drop = True)"
   ]
  },
  {
   "cell_type": "code",
   "execution_count": 4,
   "id": "e5e3ffda-89cd-4e7d-9843-bd4a5532f59a",
   "metadata": {},
   "outputs": [],
   "source": [
    "def process(data):\n",
    "    time_cols = ['MERCHANT_CATEGORIZED_AT',  'PURCHASED_AT']\n",
    "    for i, col in enumerate(time_cols):\n",
    "        data[f'created_at_{i}'] = pd.to_datetime(data[col])\n",
    "        data[f'hour_{i}'] = data[f'created_at_{i}'].dt.hour\n",
    "        data[f'minute_{i}'] = data[f'created_at_{i}'].dt.minute\n",
    "    data['hour'] = data.hour_0 - data.hour_1\n",
    "    data['minute'] = data.minute_0 - data.minute_1\n",
    "    data['period'] = pd.cut(data['hour'], bins = [0, 4, 8, 12, 16, 20, 23], labels=['Midnight', 'Early_Morning', 'Late_Morning', 'Afternoon', 'Evening', 'Night'])\n",
    "    data['month'] = data['created_at_0'].dt.month\n",
    "    data['day'] = data['created_at_0'].dt.day\n",
    "    data['dayofweek'] = data['created_at_0'].dt.dayofweek\n",
    "    data['delta_period'] = (data['created_at_0'] - data['created_at_1']).dt.total_seconds()/(60*60*24)\n",
    "    data['month_day'] = data['month'].astype(str) + '-' + data['day'].astype(str)\n",
    "    data.drop(['MERCHANT_CATEGORIZED_AT',  'PURCHASED_AT', 'created_at_0', 'created_at_1', 'day'], 1, inplace = True)\n",
    "\n",
    "    freq_coll = ['USER_ID', 'month_day']\n",
    "    for col in freq_coll:\n",
    "        data[col] = data[col].map(data.groupby(col).size() / len(data))\n",
    "\n",
    "    le = LabelEncoder()\n",
    "    LE_cols = ['MERCHANT_NAME', 'IS_PURCHASE_PAID_VIA_MPESA_SEND_MONEY']\n",
    "    for le_col in LE_cols:\n",
    "        data[le_col] = le.fit_transform(data[le_col])\n",
    "\n",
    "    cols2dum = ['USER_GENDER', 'period']\n",
    "    data = pd.get_dummies(data, prefix_sep = '_', columns = cols2dum)\n",
    "\n",
    "    for agg in (['mean']):\n",
    "    # add more aggregation parameters if you want\n",
    "        data['date_by_name_' + agg] = data['MERCHANT_NAME'].groupby(data['month_day']).transform(agg)\n",
    "        data['name_by_purchase_' + agg] = data['PURCHASE_VALUE'].groupby(data['MERCHANT_NAME']).transform(agg)\n",
    "        data['name_by_income_' + agg] = data['USER_INCOME'].groupby(data['MERCHANT_NAME']).transform(agg)\n",
    "    data['income_per_household'] = data.USER_INCOME\t/ data.USER_HOUSEHOLD\n",
    "\n",
    "    data.drop(['Transaction_ID', 'USER_AGE', 'period_Night'], 1, inplace = True)\n",
    "    data_km = data.drop(['MERCHANT_CATEGORIZED_AS'], axis = 1)\n",
    "    km = KMeans(n_clusters = 13, random_state = random_seed)\n",
    "    data['cluster'] = km.fit_predict(data_km)\n",
    "    return data"
   ]
  },
  {
   "cell_type": "code",
   "execution_count": 5,
   "id": "526566ce-0d27-4c0d-8d9a-866f59ac18b0",
   "metadata": {},
   "outputs": [],
   "source": [
    "data = process(data)\n",
    "train = data[data.train == 0]\n",
    "test = data[data.train == 1]"
   ]
  },
  {
   "cell_type": "code",
   "execution_count": 6,
   "id": "56f2b8f2",
   "metadata": {
    "colab": {
     "base_uri": "https://localhost:8080/"
    },
    "id": "56f2b8f2",
    "outputId": "65fd28cf-9e73-4b49-84f5-7c906bcd91ba"
   },
   "outputs": [
    {
     "name": "stdout",
     "output_type": "stream",
     "text": [
      "shape (373, 29) (558, 28)\n"
     ]
    }
   ],
   "source": [
    "test.drop(['MERCHANT_CATEGORIZED_AS', 'train'], axis = 1, inplace = True)\n",
    "train.drop('train', axis = 1, inplace = True)\n",
    "print('shape', train.shape, test.shape)"
   ]
  },
  {
   "cell_type": "code",
   "execution_count": 17,
   "id": "91ed011d-d6dd-4c1a-a3a6-3976ea9823df",
   "metadata": {
    "id": "d2825a45"
   },
   "outputs": [
    {
     "data": {
      "text/plain": [
       "((373, 28), (373,))"
      ]
     },
     "execution_count": 17,
     "metadata": {},
     "output_type": "execute_result"
    }
   ],
   "source": [
    "X_, y_ = train.drop('MERCHANT_CATEGORIZED_AS', axis = 1), train[\"MERCHANT_CATEGORIZED_AS\"]\n",
    "# X, y = SMOTE(k_neighbors = 1, random_state = 1).fit_resample(X_, y_)\n",
    "X, y = RandomOverSampler(random_state = 1).fit_resample(X_, y_)\n",
    "# X_train, X_test, y_train, y_test = train_test_split(X, y, test_size = .1, random_state = random_seed)\n",
    "X_.shape, y_.shape"
   ]
  },
  {
   "cell_type": "code",
   "execution_count": 8,
   "id": "8967927d-da17-4158-ac2d-74345548cc60",
   "metadata": {
    "colab": {
     "base_uri": "https://localhost:8080/"
    },
    "id": "-t-5OMreAaHb",
    "outputId": "4417403a-dfde-4a06-b0c3-a34675d87d73",
    "tags": []
   },
   "outputs": [
    {
     "name": "stdout",
     "output_type": "stream",
     "text": [
      "Model training finished\n"
     ]
    }
   ],
   "source": [
    "cb_model_ = CatBoostClassifier(l2_leaf_reg = 9.441413522475084, depth = 5, bootstrap_type = 'MVS', learning_rate = 0.01712339213540557, n_estimators = 2950,\n",
    "                                                 leaf_estimation_iterations = 1, random_strength = 0.18095032711212016, loss_function = 'MultiClass', verbose = 0, random_state = random_seed)\n",
    "# cb_model_.fit(X_train, y_train, eval_set = [(X_test, y_test)], verbose = 0, early_stopping_rounds = 200)\n",
    "# preds_ = cb_model_.predict_proba(X_test)\n",
    "# print(\"Model training finished\")\n",
    "# log_loss(y_test, preds_).round(5)\n",
    "cb_model_.fit(X_, y_)\n",
    "print(\"Model training finished\")"
   ]
  },
  {
   "cell_type": "code",
   "execution_count": 14,
   "id": "310c4f20-587b-4f22-acdf-e3f1f9ade682",
   "metadata": {},
   "outputs": [],
   "source": [
    "# feat_imp_df = pd.DataFrame(cb_model_.feature_importances_, columns = ['Importance'])\n",
    "# feat_imp_df['Features'] = X_.columns\n",
    "# feat_imp_df.sort_values(by = 'Importance', ascending = False)\n",
    "# # print(feat_imp_df[feat_imp_df.Importance < 1].Features.to_list(), end = \" \")"
   ]
  },
  {
   "cell_type": "code",
   "execution_count": 18,
   "id": "cb60f520-5bed-40cd-b198-d417cf53ba93",
   "metadata": {},
   "outputs": [
    {
     "name": "stdout",
     "output_type": "stream",
     "text": [
      "= Fold 1 =\n",
      "0.22323\n",
      "= Fold 2 =\n",
      "0.34167\n",
      "= Fold 3 =\n",
      "0.21406\n",
      "= Fold 4 =\n",
      "0.29925\n",
      "= Fold 5 =\n",
      "0.31891\n",
      "cat_score:  0.279424\n"
     ]
    }
   ],
   "source": [
    "kf = StratifiedKFold(n_splits = 5, random_state = 1, shuffle = True)\n",
    "cat_scores = []\n",
    "for fold, (tr_in, te_in) in enumerate(kf.split(X, y)):\n",
    "    print(\"= Fold {fold} =\".format(fold = fold + 1))\n",
    "    X_train, X_test = X.iloc[tr_in], X.iloc[te_in]\n",
    "    y_train, y_test = y.iloc[tr_in], y.iloc[te_in]\n",
    "    _cb_model_ = CatBoostClassifier(depth = 7, bootstrap_type = 'Bayesian', learning_rate = 0.1, n_estimators = 1000, use_best_model = True,\n",
    "                              leaf_estimation_iterations = 1, random_strength = 0.2, loss_function = 'MultiClass', verbose = 0, random_state = random_seed)\n",
    "    _cb_model_.fit(X_train, y_train, eval_set = [(X_test, y_test)], verbose = 0, early_stopping_rounds = 200)\n",
    "    preds_ = _cb_model_.predict_proba(X_test)\n",
    "    print(log_loss(y_test, preds_).round(5))\n",
    "    cat_scores.append(log_loss(y_test, preds_).round(5))\n",
    "\n",
    "print('cat_score: ', np.mean(cat_scores))"
   ]
  },
  {
   "cell_type": "code",
   "execution_count": 19,
   "id": "iUQ4d5Ovd-b2",
   "metadata": {
    "id": "iUQ4d5Ovd-b2"
   },
   "outputs": [],
   "source": [
    "def predict_and_submit(test_, filename):\n",
    "    d = {\"Transaction_ID\": sub[\"Transaction_ID\"], 'Bills & Fees':test_[:, 0], 'Data & WiFi':test_[:, 1], 'Education':test_[:, 2], 'Emergency fund':test_[:, 3],'Family & Friends':test_[:, 4],'Going out':test_[:, 5],'Groceries':test_[:, 6],\\\n",
    "        'Health':test_[:, 7],'Loan Repayment':test_[:, 8],'Miscellaneous':test_[:, 9],'Rent / Mortgage':test_[:, 10],'Shopping':test_[:, 11],'Transport & Fuel':test_[:, 12]}\n",
    "    df_ = pd.DataFrame(data = d)\n",
    "    df_ = df_[[\"Transaction_ID\", 'Bills & Fees','Data & WiFi','Education','Emergency fund','Family & Friends','Going out','Groceries','Health','Loan Repayment','Miscellaneous','Rent / Mortgage','Shopping','Transport & Fuel']]\n",
    "    df_.to_csv(f'{filename}.csv', index = False)\n",
    "    return df_.shape"
   ]
  },
  {
   "cell_type": "code",
   "execution_count": 23,
   "id": "f852c3df",
   "metadata": {
    "colab": {
     "base_uri": "https://localhost:8080/"
    },
    "id": "f852c3df",
    "outputId": "38550126-c1ca-44e7-b7d8-ffab44c0090c"
   },
   "outputs": [
    {
     "data": {
      "text/plain": [
       "(558, 14)"
      ]
     },
     "execution_count": 23,
     "metadata": {},
     "output_type": "execute_result"
    }
   ],
   "source": [
    "y_a = cb_model_.predict_proba(test)\n",
    "y_b = _cb_model_.predict_proba(test)\n",
    "pred1 = y_a * 0.5 + y_b * 0.5\n",
    "predict_and_submit(pred1, '_Manager')"
   ]
  },
  {
   "cell_type": "code",
   "execution_count": null,
   "id": "861e80a0-a254-47c9-b1d7-60cb607c6155",
   "metadata": {},
   "outputs": [],
   "source": []
  }
 ],
 "metadata": {
  "accelerator": "GPU",
  "colab": {
   "collapsed_sections": [],
   "name": "Managers.ipynb",
   "provenance": []
  },
  "gpuClass": "standard",
  "kernelspec": {
   "display_name": "Python 3 (ipykernel)",
   "language": "python",
   "name": "python3"
  },
  "language_info": {
   "codemirror_mode": {
    "name": "ipython",
    "version": 3
   },
   "file_extension": ".py",
   "mimetype": "text/x-python",
   "name": "python",
   "nbconvert_exporter": "python",
   "pygments_lexer": "ipython3",
   "version": "3.9.12"
  }
 },
 "nbformat": 4,
 "nbformat_minor": 5
}
